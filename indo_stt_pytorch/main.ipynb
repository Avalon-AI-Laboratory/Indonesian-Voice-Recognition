{
 "cells": [
  {
   "cell_type": "markdown",
   "id": "15dbf4c5-3180-4277-ba4e-bf8ba2a36210",
   "metadata": {},
   "source": [
    "## Import Required Libraries"
   ]
  },
  {
   "cell_type": "code",
   "execution_count": 2,
   "id": "8af5d57f-2d93-4e45-ae23-5b69c8d3f96b",
   "metadata": {
    "tags": []
   },
   "outputs": [],
   "source": [
    "%load_ext autoreload\n",
    "%autoreload 2\n",
    "import torch\n",
    "import torch.nn as nn\n",
    "import torchaudio\n",
    "import torchaudio.functional as F\n",
    "import torchaudio.transforms as T\n",
    "from torchinfo import summary\n",
    "import seaborn as sns\n",
    "import math\n",
    "import numpy as np\n",
    "import pandas as pd\n",
    "import matplotlib.pyplot as plt\n",
    "import os\n",
    "import string\n",
    "\n",
    "from PreprocessAudio import PreprocessAudio\n",
    "from model import CRNN"
   ]
  },
  {
   "cell_type": "markdown",
   "id": "1ac9c159-1da5-4198-b186-eacce13506c6",
   "metadata": {},
   "source": [
    "## Load Metadatas"
   ]
  },
  {
   "cell_type": "code",
   "execution_count": 4,
   "id": "c1591905-fea0-4643-9630-5f98e1881085",
   "metadata": {},
   "outputs": [],
   "source": [
    "df = pd.read_csv('./common_voice_id/dev.tsv', sep='\\t')\n",
    "df2 = pd.read_csv('./common_voice_id/invalidated.tsv', sep='\\t')\n",
    "df3 = pd.read_csv('./common_voice_id/other.tsv', sep='\\t')\n",
    "df4 = pd.read_csv('./common_voice_id/train.tsv', sep='\\t')\n",
    "\n",
    "df = df[['path', 'sentence']]\n",
    "df2 = df2[['path', 'sentence']]\n",
    "df3 = df3[['path', 'sentence']]\n",
    "df4 = df4[['path', 'sentence']]\n",
    "\n",
    "df = pd.concat([df, df2, df3, df4], ignore_index=True)\n",
    "df = df.sample(frac=1, random_state=42)\n",
    "df = df.reset_index(drop=True)"
   ]
  },
  {
   "cell_type": "code",
   "execution_count": 5,
   "id": "e9264b0d-3d0b-4a61-bde3-98303b08726d",
   "metadata": {
    "tags": []
   },
   "outputs": [],
   "source": [
    "df = df[:1000] # We test it using 1000 data first"
   ]
  },
  {
   "cell_type": "markdown",
   "id": "403b027e-825b-4ff2-9ba3-d3743c6e89d7",
   "metadata": {},
   "source": [
    "## Clean Transcription Text (Remove Any Punctuations and Convert to Lowercase)"
   ]
  },
  {
   "cell_type": "code",
   "execution_count": 6,
   "id": "0f6865bb-e141-43de-a18b-49729553127e",
   "metadata": {
    "tags": []
   },
   "outputs": [],
   "source": [
    "def remove_strips(text):\n",
    "    # Mengganti tanda hubung (-) dengan spasi dan menghapus tanda baca di awal dan akhir kata\n",
    "    cleaned_text = text.replace('-', ' ').strip(string.punctuation)\n",
    "    return cleaned_text\n",
    "\n",
    "for i in range(len(df['sentence'])):\n",
    "    # print(text)\n",
    "    df['sentence'][i] = df['sentence'][i].lower()\n",
    "    df['sentence'][i] = ' '.join(word.strip(string.punctuation) for word in df['sentence'][i].split())\n",
    "    df['sentence'][i] = ' '.join(remove_strips(word) for word in df['sentence'][i].split())"
   ]
  },
  {
   "cell_type": "code",
   "execution_count": 7,
   "id": "4b9e567d-730a-4e88-a0f1-f2e3f1074945",
   "metadata": {
    "tags": []
   },
   "outputs": [
    {
     "data": {
      "text/html": [
       "<div>\n",
       "<style scoped>\n",
       "    .dataframe tbody tr th:only-of-type {\n",
       "        vertical-align: middle;\n",
       "    }\n",
       "\n",
       "    .dataframe tbody tr th {\n",
       "        vertical-align: top;\n",
       "    }\n",
       "\n",
       "    .dataframe thead th {\n",
       "        text-align: right;\n",
       "    }\n",
       "</style>\n",
       "<table border=\"1\" class=\"dataframe\">\n",
       "  <thead>\n",
       "    <tr style=\"text-align: right;\">\n",
       "      <th></th>\n",
       "      <th>path</th>\n",
       "      <th>sentence</th>\n",
       "    </tr>\n",
       "  </thead>\n",
       "  <tbody>\n",
       "    <tr>\n",
       "      <th>0</th>\n",
       "      <td>common_voice_id_26747327.mp3</td>\n",
       "      <td>kamu harus melakukannya suka tidak suka</td>\n",
       "    </tr>\n",
       "    <tr>\n",
       "      <th>1</th>\n",
       "      <td>common_voice_id_21699230.mp3</td>\n",
       "      <td>saya dibonceng di belakang sepeda teman</td>\n",
       "    </tr>\n",
       "    <tr>\n",
       "      <th>2</th>\n",
       "      <td>common_voice_id_25248896.mp3</td>\n",
       "      <td>tom berkata dia dapat menunggu lama</td>\n",
       "    </tr>\n",
       "    <tr>\n",
       "      <th>3</th>\n",
       "      <td>common_voice_id_25537482.mp3</td>\n",
       "      <td>minggu lalu terus menerus hujan</td>\n",
       "    </tr>\n",
       "    <tr>\n",
       "      <th>4</th>\n",
       "      <td>common_voice_id_21195036.mp3</td>\n",
       "      <td>saat libur musim panas tahun ini saya pergi ke...</td>\n",
       "    </tr>\n",
       "  </tbody>\n",
       "</table>\n",
       "</div>"
      ],
      "text/plain": [
       "                           path  \\\n",
       "0  common_voice_id_26747327.mp3   \n",
       "1  common_voice_id_21699230.mp3   \n",
       "2  common_voice_id_25248896.mp3   \n",
       "3  common_voice_id_25537482.mp3   \n",
       "4  common_voice_id_21195036.mp3   \n",
       "\n",
       "                                            sentence  \n",
       "0            kamu harus melakukannya suka tidak suka  \n",
       "1            saya dibonceng di belakang sepeda teman  \n",
       "2                tom berkata dia dapat menunggu lama  \n",
       "3                    minggu lalu terus menerus hujan  \n",
       "4  saat libur musim panas tahun ini saya pergi ke...  "
      ]
     },
     "execution_count": 7,
     "metadata": {},
     "output_type": "execute_result"
    }
   ],
   "source": [
    "df.head()"
   ]
  },
  {
   "cell_type": "markdown",
   "id": "1637c9b8-90bc-488b-a956-fb2fedc713d4",
   "metadata": {
    "tags": []
   },
   "source": [
    "## Copy Every Audio File to audio_folder For Further Operations"
   ]
  },
  {
   "cell_type": "code",
   "execution_count": 8,
   "id": "f859eaa9-1467-4c6f-9bbc-923bb95cb42e",
   "metadata": {
    "tags": []
   },
   "outputs": [],
   "source": [
    "label_list = []\n",
    "HOME = os.getcwd()\n",
    "for i in range(len(df)):\n",
    "    os.system(f'copy \\\"{HOME}\\\\common_voice_id\\\\clips\\\\{df[\"path\"][i]}\\\" \\\"{HOME}\\\\audio_folder\\\\{df[\"path\"][i]}\\\"')\n",
    "    label_list.append(df['sentence'][i])"
   ]
  },
  {
   "cell_type": "code",
   "execution_count": 9,
   "id": "182ddad5-dd67-4d2c-a618-a450de19ef68",
   "metadata": {
    "tags": []
   },
   "outputs": [
    {
     "name": "stdout",
     "output_type": "stream",
     "text": [
      "Banyaknya label: 1000\n",
      "Sampel 10 label\n"
     ]
    },
    {
     "data": {
      "text/plain": [
       "['kamu harus melakukannya suka tidak suka',\n",
       " 'saya dibonceng di belakang sepeda teman',\n",
       " 'tom berkata dia dapat menunggu lama',\n",
       " 'minggu lalu terus menerus hujan',\n",
       " 'saat libur musim panas tahun ini saya pergi ke laut dan mendaki gunung',\n",
       " 'dia memanggil namanya',\n",
       " 'saat berada di sana saya belajar bahasa inggris',\n",
       " 'di mana kamu membeli buku itu',\n",
       " 'sepuluh tahun adalah waktu yang lama untuk menunggu',\n",
       " 'di atas meja ada vas bunga']"
      ]
     },
     "execution_count": 9,
     "metadata": {},
     "output_type": "execute_result"
    }
   ],
   "source": [
    "print(f'Banyaknya label: {len(label_list)}')\n",
    "print('Sampel 10 label')\n",
    "label_list[:10]"
   ]
  },
  {
   "cell_type": "code",
   "execution_count": 10,
   "id": "c0f62208-1f85-4846-ba2b-5ebe9b7462d5",
   "metadata": {
    "tags": []
   },
   "outputs": [],
   "source": [
    "label_list_len = [] # List untuk menyimpan kumpulan banyaknya karakter per data\n",
    "for text in label_list:\n",
    "    label_list_len.append(len(text))"
   ]
  },
  {
   "cell_type": "code",
   "execution_count": 11,
   "id": "23637a0d-302a-43b9-976c-763a11fe910e",
   "metadata": {
    "tags": []
   },
   "outputs": [
    {
     "name": "stdout",
     "output_type": "stream",
     "text": [
      "Teks terpanjang: 145 karakter\n",
      "Indeks teks terpanjang: 387\n"
     ]
    }
   ],
   "source": [
    "print(f'Teks terpanjang: {np.max(label_list_len)} karakter')\n",
    "print(f'Indeks teks terpanjang: {np.argmax(label_list_len)}')"
   ]
  },
  {
   "cell_type": "markdown",
   "id": "711747fa-4a3b-4ba1-a4d1-2cb3149892c1",
   "metadata": {},
   "source": [
    "## Build Functions to Encode and Decode Characters"
   ]
  },
  {
   "cell_type": "code",
   "execution_count": 12,
   "id": "e2b9c16f-3b40-4c58-9007-624a53cf241c",
   "metadata": {
    "tags": []
   },
   "outputs": [],
   "source": [
    "alphabet = 'abcdefghijklmnopqrstuvwxyz '\n",
    "num_alpha = len(alphabet) + 1\n",
    "num_timestamps = 256\n",
    "max_str_len = 256 \n",
    "\n",
    "def conv2num(label):\n",
    "    label_enc = []\n",
    "    for i in label:\n",
    "        label_enc.append(alphabet.find(i))\n",
    "    return np.array(label_enc)\n",
    "\n",
    "def num2label(num):\n",
    "    txt = \"\"\n",
    "    for i in num:\n",
    "        if i == -1:\n",
    "            break\n",
    "        else:\n",
    "            txt += alphabet[i]"
   ]
  },
  {
   "cell_type": "code",
   "execution_count": 14,
   "id": "79d1e63e-6403-4043-98cb-13dda039f047",
   "metadata": {
    "tags": []
   },
   "outputs": [
    {
     "name": "stdout",
     "output_type": "stream",
     "text": [
      "kamu harus melakukannya suka tidak suka\n",
      "[ 9  0 11  0 13 26  8 13  8 26  1  4 17 11  0 13  9 20 19 26 12  4 13 20\n",
      "  9 20 26  0 17  0  7 26 20 19  0 17  0 26  1  0 17  0 19 26 11  0 20 19\n",
      " 26 18  4 19  4 11  0  7 26 12  4 11  4 22  0 19  8 26 15  0  3  0 13  6\n",
      " 26 17 20 12 15 20 19 26  1 11 14 14 12  8 13  6 26 12  4 11  0 11 20  8\n",
      " 26  0 17  0  7 26  3  4 13  6  0 13 26 18  4  1  0  6  8  0 13 26  1  4\n",
      " 18  0 17 26 15  4 12  0 13  3  0 13  6  0 13 26 15  4 17 19  0 13  8  0\n",
      " 13]\n"
     ]
    }
   ],
   "source": [
    "print(label_list[0])\n",
    "print(conv2num(label_list[387]))"
   ]
  },
  {
   "cell_type": "markdown",
   "id": "3d05f675-d39c-46b5-be2b-e31f110f3ab4",
   "metadata": {},
   "source": [
    "## Train and Validation Data Split"
   ]
  },
  {
   "cell_type": "code",
   "execution_count": 15,
   "id": "5167c6e7-df81-4d5e-a688-0a53863c7116",
   "metadata": {
    "tags": []
   },
   "outputs": [],
   "source": [
    "df_train = df[:800]\n",
    "df_valid = df[800:]"
   ]
  },
  {
   "cell_type": "code",
   "execution_count": 16,
   "id": "d72423ee-e180-4eb2-8902-eb7121129452",
   "metadata": {
    "tags": []
   },
   "outputs": [
    {
     "data": {
      "text/plain": [
       "path          common_voice_id_25451716.mp3\n",
       "sentence    masalah ini tidak akan selesai\n",
       "Name: 58, dtype: object"
      ]
     },
     "execution_count": 16,
     "metadata": {},
     "output_type": "execute_result"
    }
   ],
   "source": [
    "df_train.iloc[58]"
   ]
  },
  {
   "cell_type": "code",
   "execution_count": 17,
   "id": "0268cfce-0022-4318-9aa1-08b7a23ad4a3",
   "metadata": {
    "tags": []
   },
   "outputs": [],
   "source": [
    "df_valid = df_valid.reset_index(drop=True)"
   ]
  },
  {
   "cell_type": "code",
   "execution_count": 18,
   "id": "05b42257-e9b3-4f43-ab35-a15a892293cc",
   "metadata": {
    "tags": []
   },
   "outputs": [],
   "source": [
    "# Copy train audio data to 'train' folder\n",
    "label_list_train = []\n",
    "\n",
    "for i in range(len(df_train)):\n",
    "    os.system(f'move \\\"{HOME}\\\\audio_folder\\\\{df_train[\"path\"][i]}\\\" \\\"{HOME}\\\\audio_folder\\\\train\\\\{df_train[\"path\"][i]}\\\"')\n",
    "    label_list_train.append(df_train['sentence'][i])"
   ]
  },
  {
   "cell_type": "code",
   "execution_count": 19,
   "id": "9625d8cd-c66e-4718-8184-85ed713258b5",
   "metadata": {
    "tags": []
   },
   "outputs": [],
   "source": [
    "# Copy train audio data to 'valid' folder\n",
    "label_list_valid = []\n",
    "\n",
    "for i in range(len(df_valid)):\n",
    "    os.system(f'move \\\"{HOME}\\\\audio_folder\\\\{df_valid[\"path\"][i]}\\\" \\\"{HOME}\\\\audio_folder\\\\valid\\\\{df_valid[\"path\"][i]}\\\"')\n",
    "    label_list_valid.append(df_valid['sentence'][i])"
   ]
  },
  {
   "cell_type": "code",
   "execution_count": 20,
   "id": "ed9f38c7-23a0-497b-835b-6f7193e2081c",
   "metadata": {
    "tags": []
   },
   "outputs": [],
   "source": [
    "train_size = len(label_list_train) # Bisa diganti\n",
    "train_y = np.ones([train_size, max_str_len]) * -1\n",
    "train_label_len = np.zeros([train_size, 1])\n",
    "train_input_len = np.ones([train_size, 1]) * (num_timestamps - 2) # -2 bisa diganti2 juga\n",
    "train_output = np.zeros([train_size])\n",
    "\n",
    "for i in range(train_size):\n",
    "    train_label_len[i] = len(label_list_train[i])\n",
    "    train_y[i, 0:len(label_list_train[i])]= conv2num(label_list_train[i])    "
   ]
  },
  {
   "cell_type": "code",
   "execution_count": 21,
   "id": "eba99c07-dcf3-4b39-9cc7-86229101654c",
   "metadata": {
    "tags": []
   },
   "outputs": [],
   "source": [
    "valid_size = len(label_list_valid) # Bisa diganti\n",
    "valid_y = np.ones([valid_size, max_str_len]) * -1\n",
    "valid_label_len = np.zeros([valid_size, 1])\n",
    "valid_input_len = np.ones([valid_size, 1]) * (num_timestamps - 2) # -2 bisa diganti2 juga\n",
    "valid_output = np.zeros([valid_size])\n",
    "\n",
    "for i in range(valid_size):\n",
    "    valid_label_len[i] = len(label_list_valid[i])\n",
    "    valid_y[i, 0:len(label_list_valid[i])]= conv2num(label_list_valid[i])    "
   ]
  },
  {
   "cell_type": "code",
   "execution_count": 22,
   "id": "c7ed2eb8-986e-44c8-aa91-040965112612",
   "metadata": {
    "tags": []
   },
   "outputs": [],
   "source": [
    "ll_train = [] # Train label lengths list\n",
    "ll_valid = []\n",
    "for txt in label_list_train:\n",
    "    ll_train.append(len(txt))\n",
    "\n",
    "for txt in label_list_valid:\n",
    "    ll_valid.append(len(txt))"
   ]
  },
  {
   "cell_type": "code",
   "execution_count": 23,
   "id": "c0257559-d484-42c6-ad5e-d3f443af516a",
   "metadata": {
    "tags": []
   },
   "outputs": [
    {
     "data": {
      "text/plain": [
       "387"
      ]
     },
     "execution_count": 23,
     "metadata": {},
     "output_type": "execute_result"
    }
   ],
   "source": [
    "np.argmax(ll_train) # Maximum length of train set"
   ]
  },
  {
   "cell_type": "code",
   "execution_count": 24,
   "id": "06539d67-5140-44ea-a5e4-c53583172f06",
   "metadata": {
    "tags": []
   },
   "outputs": [
    {
     "name": "stdout",
     "output_type": "stream",
     "text": [
      "[ 9.  0. 11.  0. 13. 26.  8. 13.  8. 26.  1.  4. 17. 11.  0. 13.  9. 20.\n",
      " 19. 26. 12.  4. 13. 20.  9. 20. 26.  0. 17.  0.  7. 26. 20. 19.  0. 17.\n",
      "  0. 26.  1.  0. 17.  0. 19. 26. 11.  0. 20. 19. 26. 18.  4. 19.  4. 11.\n",
      "  0.  7. 26. 12.  4. 11.  4. 22.  0. 19.  8. 26. 15.  0.  3.  0. 13.  6.\n",
      " 26. 17. 20. 12. 15. 20. 19. 26.  1. 11. 14. 14. 12.  8. 13.  6. 26. 12.\n",
      "  4. 11.  0. 11. 20.  8. 26.  0. 17.  0.  7. 26.  3.  4. 13.  6.  0. 13.\n",
      " 26. 18.  4.  1.  0.  6.  8.  0. 13. 26.  1.  4. 18.  0. 17. 26. 15.  4.\n",
      " 12.  0. 13.  3.  0. 13.  6.  0. 13. 26. 15.  4. 17. 19.  0. 13.  8.  0.\n",
      " 13. -1. -1. -1. -1. -1. -1. -1. -1. -1. -1. -1. -1. -1. -1. -1. -1. -1.\n",
      " -1. -1. -1. -1. -1. -1. -1. -1. -1. -1. -1. -1. -1. -1. -1. -1. -1. -1.\n",
      " -1. -1. -1. -1. -1. -1. -1. -1. -1. -1. -1. -1. -1. -1. -1. -1. -1. -1.\n",
      " -1. -1. -1. -1. -1. -1. -1. -1. -1. -1. -1. -1. -1. -1. -1. -1. -1. -1.\n",
      " -1. -1. -1. -1. -1. -1. -1. -1. -1. -1. -1. -1. -1. -1. -1. -1. -1. -1.\n",
      " -1. -1. -1. -1. -1. -1. -1. -1. -1. -1. -1. -1. -1. -1. -1. -1. -1. -1.\n",
      " -1. -1. -1. -1.]\n",
      "[145.]\n",
      "[254.]\n",
      "0.0\n"
     ]
    }
   ],
   "source": [
    "print(train_y[np.argmax(ll_train)]) # Label terpanjang\n",
    "print(train_label_len[np.argmax(ll_train)])\n",
    "print(train_input_len[np.argmax(ll_train)])\n",
    "print(train_output[np.argmax(ll_train)])"
   ]
  },
  {
   "cell_type": "markdown",
   "id": "aadac99d-e58e-4e08-af2c-2e1ee95ed688",
   "metadata": {},
   "source": [
    "## Preprocess Audio to Obtain MFCC Matrices"
   ]
  },
  {
   "cell_type": "code",
   "execution_count": 25,
   "id": "8158552f-affc-42a2-accb-75c80fb3fe2d",
   "metadata": {
    "tags": []
   },
   "outputs": [],
   "source": [
    "PipelineTrain = PreprocessAudio('./audio_folder/train/', df_train)\n",
    "PipelineValid = PreprocessAudio('./audio_folder/valid/', df_valid)"
   ]
  },
  {
   "cell_type": "code",
   "execution_count": 26,
   "id": "20ff3b7e-c13a-4d4e-8d25-b55356173ee6",
   "metadata": {
    "tags": []
   },
   "outputs": [
    {
     "name": "stdout",
     "output_type": "stream",
     "text": [
      "Mounted audio directory at: ./audio_folder/train/\n"
     ]
    },
    {
     "name": "stderr",
     "output_type": "stream",
     "text": [
      "C:\\Users\\Kevin Putra Santoso\\Documents\\IVR_Project\\PreprocessAudio.py:32: UserWarning: Creating a tensor from a list of numpy.ndarrays is extremely slow. Please consider converting the list to a single numpy.ndarray with numpy.array() before converting to a tensor. (Triggered internally at C:\\cb\\pytorch_1000000000000\\work\\torch\\csrc\\utils\\tensor_new.cpp:248.)\n",
      "  return torch.tensor([signal])\n"
     ]
    },
    {
     "name": "stdout",
     "output_type": "stream",
     "text": [
      "Error di file ./audio_folder/train/common_voice_id_25470004.mp3\n",
      "Counter di 12\n",
      "Error di file ./audio_folder/train/common_voice_id_21699467.mp3\n",
      "Counter di 72\n",
      "Error di file ./audio_folder/train/common_voice_id_35338065.mp3\n",
      "Counter di 156\n",
      "Error di file ./audio_folder/train/common_voice_id_26242833.mp3\n",
      "Counter di 162\n",
      "Error di file ./audio_folder/train/common_voice_id_26237570.mp3\n",
      "Counter di 173\n",
      "Error di file ./audio_folder/train/common_voice_id_19783809.mp3\n",
      "Counter di 189\n",
      "Error di file ./audio_folder/train/common_voice_id_21194463.mp3\n",
      "Counter di 203\n",
      "Error di file ./audio_folder/train/common_voice_id_25469455.mp3\n",
      "Counter di 307\n",
      "Error di file ./audio_folder/train/common_voice_id_21194346.mp3\n",
      "Counter di 426\n",
      "Error di file ./audio_folder/train/common_voice_id_20847480.mp3\n",
      "Counter di 492\n",
      "Error di file ./audio_folder/train/common_voice_id_21587706.mp3\n",
      "Counter di 497\n",
      "Error di file ./audio_folder/train/common_voice_id_21192699.mp3\n",
      "Counter di 498\n",
      "Error di file ./audio_folder/train/common_voice_id_21705450.mp3\n",
      "Counter di 568\n",
      "Error di file ./audio_folder/train/common_voice_id_26228662.mp3\n",
      "Counter di 579\n",
      "Error di file ./audio_folder/train/common_voice_id_21194442.mp3\n",
      "Counter di 624\n",
      "Error di file ./audio_folder/train/common_voice_id_25469861.mp3\n",
      "Counter di 666\n",
      "Mounted audio directory at: ./audio_folder/valid/\n",
      "Error di file ./audio_folder/valid/common_voice_id_21699667.mp3\n",
      "Counter di 113\n"
     ]
    }
   ],
   "source": [
    "dataset_train, file_error_train, index_error_train, df_train_filtered = PipelineTrain.load_audio()\n",
    "dataset_valid, file_error_valid, index_error_valid, df_valid_filtered = PipelineValid.load_audio()"
   ]
  },
  {
   "cell_type": "markdown",
   "id": "c968662e-a523-4270-91cd-17c32d58bbca",
   "metadata": {},
   "source": [
    "We saw several error here because those audio files are failed to be processed on VAD since there are no significant wave activities, so they are considered as silence periods that shall be removed."
   ]
  },
  {
   "cell_type": "code",
   "execution_count": 27,
   "id": "4048ea07-7e54-472a-9e0a-c61aafde5d3c",
   "metadata": {
    "tags": []
   },
   "outputs": [
    {
     "data": {
      "text/plain": [
       "['./audio_folder/train/common_voice_id_25470004.mp3',\n",
       " './audio_folder/train/common_voice_id_21699467.mp3',\n",
       " './audio_folder/train/common_voice_id_35338065.mp3',\n",
       " './audio_folder/train/common_voice_id_26242833.mp3',\n",
       " './audio_folder/train/common_voice_id_26237570.mp3',\n",
       " './audio_folder/train/common_voice_id_19783809.mp3',\n",
       " './audio_folder/train/common_voice_id_21194463.mp3',\n",
       " './audio_folder/train/common_voice_id_25469455.mp3',\n",
       " './audio_folder/train/common_voice_id_21194346.mp3',\n",
       " './audio_folder/train/common_voice_id_20847480.mp3',\n",
       " './audio_folder/train/common_voice_id_21587706.mp3',\n",
       " './audio_folder/train/common_voice_id_21192699.mp3',\n",
       " './audio_folder/train/common_voice_id_21705450.mp3',\n",
       " './audio_folder/train/common_voice_id_26228662.mp3',\n",
       " './audio_folder/train/common_voice_id_21194442.mp3',\n",
       " './audio_folder/train/common_voice_id_25469861.mp3']"
      ]
     },
     "execution_count": 27,
     "metadata": {},
     "output_type": "execute_result"
    }
   ],
   "source": [
    "file_error_train"
   ]
  },
  {
   "cell_type": "code",
   "execution_count": 28,
   "id": "3a617070-f7aa-4d30-9698-38f0db1d3841",
   "metadata": {
    "tags": []
   },
   "outputs": [
    {
     "name": "stdout",
     "output_type": "stream",
     "text": [
      "16\n",
      "16\n",
      "16\n"
     ]
    }
   ],
   "source": [
    "# Check whether the sum of error audios are correct\n",
    "print(len(file_error_train))\n",
    "print(len(index_error_train))\n",
    "print(len(df_train) - len(df_train_filtered))"
   ]
  },
  {
   "cell_type": "code",
   "execution_count": 29,
   "id": "c8a15b81-143b-4c1a-84da-e63f64d743ac",
   "metadata": {
    "tags": []
   },
   "outputs": [],
   "source": [
    "list_len_data_train = []\n",
    "for i in range(len(dataset_train)):\n",
    "    list_len_data_train.append(np.array(dataset_train[i][0]).shape[0])\n",
    "    \n",
    "list_len_transkrip_train = []\n",
    "for text in df_train_filtered['sentence']:\n",
    "    list_len_transkrip_train.append(len(text))\n",
    "\n",
    "list_len_data_valid = []\n",
    "for i in range(len(dataset_valid)):\n",
    "    list_len_data_valid.append(np.array(dataset_valid[i][0]).shape[0])\n",
    "    \n",
    "list_len_transkrip_valid = []\n",
    "for text in df_valid_filtered['sentence']:\n",
    "    list_len_transkrip_valid.append(len(text))\n",
    "\n",
    "df_komparasi_len_train = pd.DataFrame({'len_mfcc':list_len_data_train, 'len_transkrip':list_len_transkrip_train})\n",
    "df_komparasi_len_valid = pd.DataFrame({'len_mfcc':list_len_data_valid, 'len_transkrip':list_len_transkrip_valid})"
   ]
  },
  {
   "cell_type": "code",
   "execution_count": 30,
   "id": "0caf5c93-13de-427e-963f-e1f1e8a914a4",
   "metadata": {
    "tags": []
   },
   "outputs": [
    {
     "data": {
      "text/html": [
       "<div>\n",
       "<style scoped>\n",
       "    .dataframe tbody tr th:only-of-type {\n",
       "        vertical-align: middle;\n",
       "    }\n",
       "\n",
       "    .dataframe tbody tr th {\n",
       "        vertical-align: top;\n",
       "    }\n",
       "\n",
       "    .dataframe thead th {\n",
       "        text-align: right;\n",
       "    }\n",
       "</style>\n",
       "<table border=\"1\" class=\"dataframe\">\n",
       "  <thead>\n",
       "    <tr style=\"text-align: right;\">\n",
       "      <th></th>\n",
       "      <th>len_mfcc</th>\n",
       "      <th>len_transkrip</th>\n",
       "    </tr>\n",
       "  </thead>\n",
       "  <tbody>\n",
       "    <tr>\n",
       "      <th>0</th>\n",
       "      <td>180</td>\n",
       "      <td>39</td>\n",
       "    </tr>\n",
       "    <tr>\n",
       "      <th>1</th>\n",
       "      <td>16</td>\n",
       "      <td>39</td>\n",
       "    </tr>\n",
       "    <tr>\n",
       "      <th>2</th>\n",
       "      <td>157</td>\n",
       "      <td>35</td>\n",
       "    </tr>\n",
       "    <tr>\n",
       "      <th>3</th>\n",
       "      <td>149</td>\n",
       "      <td>31</td>\n",
       "    </tr>\n",
       "    <tr>\n",
       "      <th>4</th>\n",
       "      <td>8</td>\n",
       "      <td>70</td>\n",
       "    </tr>\n",
       "    <tr>\n",
       "      <th>5</th>\n",
       "      <td>110</td>\n",
       "      <td>21</td>\n",
       "    </tr>\n",
       "    <tr>\n",
       "      <th>6</th>\n",
       "      <td>126</td>\n",
       "      <td>47</td>\n",
       "    </tr>\n",
       "    <tr>\n",
       "      <th>7</th>\n",
       "      <td>110</td>\n",
       "      <td>29</td>\n",
       "    </tr>\n",
       "    <tr>\n",
       "      <th>8</th>\n",
       "      <td>157</td>\n",
       "      <td>51</td>\n",
       "    </tr>\n",
       "    <tr>\n",
       "      <th>9</th>\n",
       "      <td>94</td>\n",
       "      <td>26</td>\n",
       "    </tr>\n",
       "    <tr>\n",
       "      <th>10</th>\n",
       "      <td>219</td>\n",
       "      <td>69</td>\n",
       "    </tr>\n",
       "    <tr>\n",
       "      <th>11</th>\n",
       "      <td>157</td>\n",
       "      <td>35</td>\n",
       "    </tr>\n",
       "    <tr>\n",
       "      <th>12</th>\n",
       "      <td>196</td>\n",
       "      <td>49</td>\n",
       "    </tr>\n",
       "    <tr>\n",
       "      <th>13</th>\n",
       "      <td>251</td>\n",
       "      <td>33</td>\n",
       "    </tr>\n",
       "    <tr>\n",
       "      <th>14</th>\n",
       "      <td>196</td>\n",
       "      <td>55</td>\n",
       "    </tr>\n",
       "    <tr>\n",
       "      <th>15</th>\n",
       "      <td>102</td>\n",
       "      <td>22</td>\n",
       "    </tr>\n",
       "    <tr>\n",
       "      <th>16</th>\n",
       "      <td>188</td>\n",
       "      <td>34</td>\n",
       "    </tr>\n",
       "    <tr>\n",
       "      <th>17</th>\n",
       "      <td>126</td>\n",
       "      <td>29</td>\n",
       "    </tr>\n",
       "    <tr>\n",
       "      <th>18</th>\n",
       "      <td>118</td>\n",
       "      <td>40</td>\n",
       "    </tr>\n",
       "    <tr>\n",
       "      <th>19</th>\n",
       "      <td>204</td>\n",
       "      <td>51</td>\n",
       "    </tr>\n",
       "  </tbody>\n",
       "</table>\n",
       "</div>"
      ],
      "text/plain": [
       "    len_mfcc  len_transkrip\n",
       "0        180             39\n",
       "1         16             39\n",
       "2        157             35\n",
       "3        149             31\n",
       "4          8             70\n",
       "5        110             21\n",
       "6        126             47\n",
       "7        110             29\n",
       "8        157             51\n",
       "9         94             26\n",
       "10       219             69\n",
       "11       157             35\n",
       "12       196             49\n",
       "13       251             33\n",
       "14       196             55\n",
       "15       102             22\n",
       "16       188             34\n",
       "17       126             29\n",
       "18       118             40\n",
       "19       204             51"
      ]
     },
     "execution_count": 30,
     "metadata": {},
     "output_type": "execute_result"
    }
   ],
   "source": [
    "df_komparasi_len_train.head(20)"
   ]
  },
  {
   "cell_type": "code",
   "execution_count": 31,
   "id": "10148b7d-a52c-4bcf-9968-2926204a5134",
   "metadata": {
    "tags": []
   },
   "outputs": [
    {
     "data": {
      "text/html": [
       "<div>\n",
       "<style scoped>\n",
       "    .dataframe tbody tr th:only-of-type {\n",
       "        vertical-align: middle;\n",
       "    }\n",
       "\n",
       "    .dataframe tbody tr th {\n",
       "        vertical-align: top;\n",
       "    }\n",
       "\n",
       "    .dataframe thead th {\n",
       "        text-align: right;\n",
       "    }\n",
       "</style>\n",
       "<table border=\"1\" class=\"dataframe\">\n",
       "  <thead>\n",
       "    <tr style=\"text-align: right;\">\n",
       "      <th></th>\n",
       "      <th>len_mfcc</th>\n",
       "      <th>len_transkrip</th>\n",
       "    </tr>\n",
       "  </thead>\n",
       "  <tbody>\n",
       "    <tr>\n",
       "      <th>0</th>\n",
       "      <td>282</td>\n",
       "      <td>65</td>\n",
       "    </tr>\n",
       "    <tr>\n",
       "      <th>1</th>\n",
       "      <td>133</td>\n",
       "      <td>39</td>\n",
       "    </tr>\n",
       "    <tr>\n",
       "      <th>2</th>\n",
       "      <td>79</td>\n",
       "      <td>24</td>\n",
       "    </tr>\n",
       "    <tr>\n",
       "      <th>3</th>\n",
       "      <td>32</td>\n",
       "      <td>5</td>\n",
       "    </tr>\n",
       "    <tr>\n",
       "      <th>4</th>\n",
       "      <td>219</td>\n",
       "      <td>50</td>\n",
       "    </tr>\n",
       "    <tr>\n",
       "      <th>5</th>\n",
       "      <td>79</td>\n",
       "      <td>19</td>\n",
       "    </tr>\n",
       "    <tr>\n",
       "      <th>6</th>\n",
       "      <td>32</td>\n",
       "      <td>63</td>\n",
       "    </tr>\n",
       "    <tr>\n",
       "      <th>7</th>\n",
       "      <td>149</td>\n",
       "      <td>41</td>\n",
       "    </tr>\n",
       "    <tr>\n",
       "      <th>8</th>\n",
       "      <td>63</td>\n",
       "      <td>14</td>\n",
       "    </tr>\n",
       "    <tr>\n",
       "      <th>9</th>\n",
       "      <td>305</td>\n",
       "      <td>65</td>\n",
       "    </tr>\n",
       "    <tr>\n",
       "      <th>10</th>\n",
       "      <td>305</td>\n",
       "      <td>69</td>\n",
       "    </tr>\n",
       "    <tr>\n",
       "      <th>11</th>\n",
       "      <td>141</td>\n",
       "      <td>37</td>\n",
       "    </tr>\n",
       "    <tr>\n",
       "      <th>12</th>\n",
       "      <td>211</td>\n",
       "      <td>52</td>\n",
       "    </tr>\n",
       "    <tr>\n",
       "      <th>13</th>\n",
       "      <td>110</td>\n",
       "      <td>29</td>\n",
       "    </tr>\n",
       "    <tr>\n",
       "      <th>14</th>\n",
       "      <td>63</td>\n",
       "      <td>17</td>\n",
       "    </tr>\n",
       "    <tr>\n",
       "      <th>15</th>\n",
       "      <td>141</td>\n",
       "      <td>28</td>\n",
       "    </tr>\n",
       "    <tr>\n",
       "      <th>16</th>\n",
       "      <td>266</td>\n",
       "      <td>69</td>\n",
       "    </tr>\n",
       "    <tr>\n",
       "      <th>17</th>\n",
       "      <td>141</td>\n",
       "      <td>36</td>\n",
       "    </tr>\n",
       "    <tr>\n",
       "      <th>18</th>\n",
       "      <td>219</td>\n",
       "      <td>43</td>\n",
       "    </tr>\n",
       "    <tr>\n",
       "      <th>19</th>\n",
       "      <td>157</td>\n",
       "      <td>43</td>\n",
       "    </tr>\n",
       "  </tbody>\n",
       "</table>\n",
       "</div>"
      ],
      "text/plain": [
       "    len_mfcc  len_transkrip\n",
       "0        282             65\n",
       "1        133             39\n",
       "2         79             24\n",
       "3         32              5\n",
       "4        219             50\n",
       "5         79             19\n",
       "6         32             63\n",
       "7        149             41\n",
       "8         63             14\n",
       "9        305             65\n",
       "10       305             69\n",
       "11       141             37\n",
       "12       211             52\n",
       "13       110             29\n",
       "14        63             17\n",
       "15       141             28\n",
       "16       266             69\n",
       "17       141             36\n",
       "18       219             43\n",
       "19       157             43"
      ]
     },
     "execution_count": 31,
     "metadata": {},
     "output_type": "execute_result"
    }
   ],
   "source": [
    "df_komparasi_len_valid.head(20)"
   ]
  },
  {
   "cell_type": "code",
   "execution_count": 32,
   "id": "4e6f90cf-5c7b-410f-bbde-9726cf5f3b32",
   "metadata": {
    "tags": []
   },
   "outputs": [
    {
     "data": {
      "text/html": [
       "<div>\n",
       "<style scoped>\n",
       "    .dataframe tbody tr th:only-of-type {\n",
       "        vertical-align: middle;\n",
       "    }\n",
       "\n",
       "    .dataframe tbody tr th {\n",
       "        vertical-align: top;\n",
       "    }\n",
       "\n",
       "    .dataframe thead th {\n",
       "        text-align: right;\n",
       "    }\n",
       "</style>\n",
       "<table border=\"1\" class=\"dataframe\">\n",
       "  <thead>\n",
       "    <tr style=\"text-align: right;\">\n",
       "      <th></th>\n",
       "      <th>len_mfcc</th>\n",
       "      <th>len_transkrip</th>\n",
       "    </tr>\n",
       "  </thead>\n",
       "  <tbody>\n",
       "    <tr>\n",
       "      <th>count</th>\n",
       "      <td>784.000000</td>\n",
       "      <td>784.000000</td>\n",
       "    </tr>\n",
       "    <tr>\n",
       "      <th>mean</th>\n",
       "      <td>154.363520</td>\n",
       "      <td>40.984694</td>\n",
       "    </tr>\n",
       "    <tr>\n",
       "      <th>std</th>\n",
       "      <td>77.961688</td>\n",
       "      <td>19.787757</td>\n",
       "    </tr>\n",
       "    <tr>\n",
       "      <th>min</th>\n",
       "      <td>8.000000</td>\n",
       "      <td>3.000000</td>\n",
       "    </tr>\n",
       "    <tr>\n",
       "      <th>25%</th>\n",
       "      <td>102.000000</td>\n",
       "      <td>27.000000</td>\n",
       "    </tr>\n",
       "    <tr>\n",
       "      <th>50%</th>\n",
       "      <td>141.000000</td>\n",
       "      <td>38.000000</td>\n",
       "    </tr>\n",
       "    <tr>\n",
       "      <th>75%</th>\n",
       "      <td>196.000000</td>\n",
       "      <td>50.000000</td>\n",
       "    </tr>\n",
       "    <tr>\n",
       "      <th>max</th>\n",
       "      <td>524.000000</td>\n",
       "      <td>145.000000</td>\n",
       "    </tr>\n",
       "  </tbody>\n",
       "</table>\n",
       "</div>"
      ],
      "text/plain": [
       "         len_mfcc  len_transkrip\n",
       "count  784.000000     784.000000\n",
       "mean   154.363520      40.984694\n",
       "std     77.961688      19.787757\n",
       "min      8.000000       3.000000\n",
       "25%    102.000000      27.000000\n",
       "50%    141.000000      38.000000\n",
       "75%    196.000000      50.000000\n",
       "max    524.000000     145.000000"
      ]
     },
     "execution_count": 32,
     "metadata": {},
     "output_type": "execute_result"
    }
   ],
   "source": [
    "df_komparasi_len_train.describe()"
   ]
  },
  {
   "cell_type": "code",
   "execution_count": 33,
   "id": "3e2aae2c-a97d-4cc8-8ac4-c6c796e34e94",
   "metadata": {
    "tags": []
   },
   "outputs": [
    {
     "data": {
      "text/html": [
       "<div>\n",
       "<style scoped>\n",
       "    .dataframe tbody tr th:only-of-type {\n",
       "        vertical-align: middle;\n",
       "    }\n",
       "\n",
       "    .dataframe tbody tr th {\n",
       "        vertical-align: top;\n",
       "    }\n",
       "\n",
       "    .dataframe thead th {\n",
       "        text-align: right;\n",
       "    }\n",
       "</style>\n",
       "<table border=\"1\" class=\"dataframe\">\n",
       "  <thead>\n",
       "    <tr style=\"text-align: right;\">\n",
       "      <th></th>\n",
       "      <th>len_mfcc</th>\n",
       "      <th>len_transkrip</th>\n",
       "    </tr>\n",
       "  </thead>\n",
       "  <tbody>\n",
       "    <tr>\n",
       "      <th>count</th>\n",
       "      <td>199.000000</td>\n",
       "      <td>199.000000</td>\n",
       "    </tr>\n",
       "    <tr>\n",
       "      <th>mean</th>\n",
       "      <td>149.170854</td>\n",
       "      <td>41.502513</td>\n",
       "    </tr>\n",
       "    <tr>\n",
       "      <th>std</th>\n",
       "      <td>78.736878</td>\n",
       "      <td>20.354156</td>\n",
       "    </tr>\n",
       "    <tr>\n",
       "      <th>min</th>\n",
       "      <td>8.000000</td>\n",
       "      <td>4.000000</td>\n",
       "    </tr>\n",
       "    <tr>\n",
       "      <th>25%</th>\n",
       "      <td>98.000000</td>\n",
       "      <td>27.000000</td>\n",
       "    </tr>\n",
       "    <tr>\n",
       "      <th>50%</th>\n",
       "      <td>133.000000</td>\n",
       "      <td>36.000000</td>\n",
       "    </tr>\n",
       "    <tr>\n",
       "      <th>75%</th>\n",
       "      <td>188.000000</td>\n",
       "      <td>52.500000</td>\n",
       "    </tr>\n",
       "    <tr>\n",
       "      <th>max</th>\n",
       "      <td>493.000000</td>\n",
       "      <td>109.000000</td>\n",
       "    </tr>\n",
       "  </tbody>\n",
       "</table>\n",
       "</div>"
      ],
      "text/plain": [
       "         len_mfcc  len_transkrip\n",
       "count  199.000000     199.000000\n",
       "mean   149.170854      41.502513\n",
       "std     78.736878      20.354156\n",
       "min      8.000000       4.000000\n",
       "25%     98.000000      27.000000\n",
       "50%    133.000000      36.000000\n",
       "75%    188.000000      52.500000\n",
       "max    493.000000     109.000000"
      ]
     },
     "execution_count": 33,
     "metadata": {},
     "output_type": "execute_result"
    }
   ],
   "source": [
    "df_komparasi_len_valid.describe()"
   ]
  },
  {
   "cell_type": "code",
   "execution_count": 34,
   "id": "fcfabe10-4ce6-47c6-af9b-81a4a8ebc016",
   "metadata": {
    "tags": []
   },
   "outputs": [
    {
     "data": {
      "image/png": "[encoded data removed]",
      "text/plain": [
       "<Figure size 550x400 with 1 Axes>"
      ]
     },
     "metadata": {},
     "output_type": "display_data"
    }
   ],
   "source": [
    "plt.figure(figsize=(5.5, 4))\n",
    "plt.title('Hubungan Data Panjang Transkrip dan\\n MFCC Matriksnya Pada Train Set', fontsize=10)\n",
    "plt.scatter(df_komparasi_len_train['len_transkrip'], df_komparasi_len_train['len_mfcc'], c='b', s=20, marker='x', label='Data Points')\n",
    "plt.xlabel('Transcript Lengths')\n",
    "plt.ylabel('MFCC Lengths')\n",
    "plt.grid(which='major', alpha=0.3)\n",
    "plt.legend()\n",
    "plt.show()"
   ]
  },
  {
   "cell_type": "markdown",
   "id": "33139736-557d-41a1-a710-aea2757e3a91",
   "metadata": {},
   "source": [
    "The scatter plot reveals the presence of several outliers in the dataset. These outliers suggest the existence of audio files that may have excessive noise (indicated by high MFCC timesteps and a small transcript length) or lack speech entirely (indicated by low MFCC timesteps and a high transcript length). To address this issue, we intend to employ linear regression to model the plot and subsequently eliminate any data points that significantly deviate from the fitted linear line."
   ]
  },
  {
   "cell_type": "code",
   "execution_count": 35,
   "id": "056b64d6-1e2f-4d6c-a6cd-87be860ed8cf",
   "metadata": {
    "tags": []
   },
   "outputs": [],
   "source": [
    "from sklearn.linear_model import LinearRegression\n",
    "\n",
    "linreg_model = LinearRegression()\n",
    "linreg_model.fit(np.array(df_komparasi_len_train['len_transkrip']).reshape(-1, 1), np.array(df_komparasi_len_train['len_mfcc']).reshape(-1,1))\n",
    "preds = linreg_model.predict(np.array(df_komparasi_len_train['len_transkrip']).reshape(-1, 1))"
   ]
  },
  {
   "cell_type": "code",
   "execution_count": 36,
   "id": "ae40fb03-c5e1-4eaf-945d-4391af4533d2",
   "metadata": {
    "tags": []
   },
   "outputs": [
    {
     "name": "stdout",
     "output_type": "stream",
     "text": [
      "[[3.34628549]]\n",
      "[17.21703383]\n"
     ]
    }
   ],
   "source": [
    "print(linreg_model.coef_)\n",
    "print(linreg_model.intercept_)"
   ]
  },
  {
   "cell_type": "code",
   "execution_count": 37,
   "id": "42aeea18-c19e-4214-9834-a1e040361f7e",
   "metadata": {
    "tags": []
   },
   "outputs": [
    {
     "data": {
      "image/png": "[encoded data removed]",
      "text/plain": [
       "<Figure size 550x400 with 1 Axes>"
      ]
     },
     "metadata": {},
     "output_type": "display_data"
    }
   ],
   "source": [
    "plt.figure(figsize=(5.5, 4))\n",
    "plt.title('Hubungan Data Panjang Transkrip dan\\n MFCC Matriksnya Pada Train Set', fontsize=10)\n",
    "plt.scatter(df_komparasi_len_train['len_transkrip'], df_komparasi_len_train['len_mfcc'], c='b', s=20, marker='x', label='Data Points')\n",
    "plt.plot(df_komparasi_len_train['len_transkrip'], preds, 'r-', label='Linear Plot')\n",
    "x = np.arange(0, 150)\n",
    "plt.plot(x, 3.36606827 * (x + 35) + 14.98861941, 'g--',label='Left Threshold')\n",
    "plt.plot(x, 3.36606827 * (x - 35) + 14.98861941, 'g--',label='Right Threshold')\n",
    "plt.xlabel('Transcript Lengths')\n",
    "plt.ylabel('MFCC Lengths')\n",
    "plt.xlim([-4,150])\n",
    "plt.ylim([-4,550])\n",
    "plt.grid(which='major', alpha=0.3)\n",
    "plt.legend(loc='lower right', prop={'size':6})\n",
    "plt.show()"
   ]
  },
  {
   "cell_type": "code",
   "execution_count": 38,
   "id": "c69a146a-f1bc-4494-8d5b-00252b2d08ee",
   "metadata": {
    "tags": []
   },
   "outputs": [],
   "source": [
    "def calculate_distance(x, y, m, c):\n",
    "    return abs(y - (m * x + c)) / np.sqrt(m**2 + 1)\n",
    "\n",
    "def remove_outliers(df, P):\n",
    "    m, c = np.polyfit(df['len_transkrip'], df['len_mfcc'], 1)\n",
    "    df['distance'] = calculate_distance(df['len_transkrip'], df['len_mfcc'], m, c)\n",
    "    return df[df['distance'] <= P].drop(columns=['distance'])\n",
    "\n",
    "P = 35\n",
    "\n",
    "df = df_komparasi_len_train.copy()\n",
    "df_cleaned = remove_outliers(df, P)"
   ]
  },
  {
   "cell_type": "code",
   "execution_count": 39,
   "id": "156d61b0-cecb-4388-a3e7-e1c85402cfdc",
   "metadata": {
    "tags": []
   },
   "outputs": [
    {
     "data": {
      "text/html": [
       "<div>\n",
       "<style scoped>\n",
       "    .dataframe tbody tr th:only-of-type {\n",
       "        vertical-align: middle;\n",
       "    }\n",
       "\n",
       "    .dataframe tbody tr th {\n",
       "        vertical-align: top;\n",
       "    }\n",
       "\n",
       "    .dataframe thead th {\n",
       "        text-align: right;\n",
       "    }\n",
       "</style>\n",
       "<table border=\"1\" class=\"dataframe\">\n",
       "  <thead>\n",
       "    <tr style=\"text-align: right;\">\n",
       "      <th></th>\n",
       "      <th>len_mfcc</th>\n",
       "      <th>len_transkrip</th>\n",
       "      <th>distance</th>\n",
       "    </tr>\n",
       "  </thead>\n",
       "  <tbody>\n",
       "    <tr>\n",
       "      <th>0</th>\n",
       "      <td>180</td>\n",
       "      <td>39</td>\n",
       "      <td>9.242015</td>\n",
       "    </tr>\n",
       "    <tr>\n",
       "      <th>1</th>\n",
       "      <td>16</td>\n",
       "      <td>39</td>\n",
       "      <td>37.715616</td>\n",
       "    </tr>\n",
       "    <tr>\n",
       "      <th>2</th>\n",
       "      <td>157</td>\n",
       "      <td>35</td>\n",
       "      <td>6.489022</td>\n",
       "    </tr>\n",
       "    <tr>\n",
       "      <th>3</th>\n",
       "      <td>149</td>\n",
       "      <td>31</td>\n",
       "      <td>8.030933</td>\n",
       "    </tr>\n",
       "    <tr>\n",
       "      <th>4</th>\n",
       "      <td>8</td>\n",
       "      <td>70</td>\n",
       "      <td>69.708322</td>\n",
       "    </tr>\n",
       "    <tr>\n",
       "      <th>5</th>\n",
       "      <td>110</td>\n",
       "      <td>21</td>\n",
       "      <td>6.445499</td>\n",
       "    </tr>\n",
       "    <tr>\n",
       "      <th>6</th>\n",
       "      <td>126</td>\n",
       "      <td>47</td>\n",
       "      <td>13.884699</td>\n",
       "    </tr>\n",
       "    <tr>\n",
       "      <th>7</th>\n",
       "      <td>110</td>\n",
       "      <td>29</td>\n",
       "      <td>1.219556</td>\n",
       "    </tr>\n",
       "    <tr>\n",
       "      <th>8</th>\n",
       "      <td>157</td>\n",
       "      <td>51</td>\n",
       "      <td>8.841089</td>\n",
       "    </tr>\n",
       "    <tr>\n",
       "      <th>9</th>\n",
       "      <td>94</td>\n",
       "      <td>26</td>\n",
       "      <td>2.926393</td>\n",
       "    </tr>\n",
       "  </tbody>\n",
       "</table>\n",
       "</div>"
      ],
      "text/plain": [
       "   len_mfcc  len_transkrip   distance\n",
       "0       180             39   9.242015\n",
       "1        16             39  37.715616\n",
       "2       157             35   6.489022\n",
       "3       149             31   8.030933\n",
       "4         8             70  69.708322\n",
       "5       110             21   6.445499\n",
       "6       126             47  13.884699\n",
       "7       110             29   1.219556\n",
       "8       157             51   8.841089\n",
       "9        94             26   2.926393"
      ]
     },
     "execution_count": 39,
     "metadata": {},
     "output_type": "execute_result"
    }
   ],
   "source": [
    "df.head(10)"
   ]
  },
  {
   "cell_type": "code",
   "execution_count": 60,
   "id": "360f3f30-fe57-4e54-86b9-d5d3b1290da0",
   "metadata": {
    "tags": []
   },
   "outputs": [
    {
     "data": {
      "image/png": "[encoded data removed]",
      "text/plain": [
       "<Figure size 1000x450 with 2 Axes>"
      ]
     },
     "metadata": {},
     "output_type": "display_data"
    }
   ],
   "source": [
    "plt.figure(figsize=(10, 4.5))\n",
    "plt.subplot(1,2,1)\n",
    "plt.scatter(df['len_transkrip'], df['len_mfcc'], c='b', s=20, marker='x', label='Data Points')\n",
    "plt.plot(df['len_transkrip'], np.polyval(np.polyfit(df['len_transkrip'], df['len_mfcc'], 1), df['len_transkrip']), color='r', label='Linear Regression')\n",
    "plt.plot(x, 3.36606827*(x + P) + 14.98861941, 'g--',label='Left Threshold')\n",
    "plt.plot(x, 3.36606827*(x - P) + 14.98861941, 'g--',label='Right Threshold')\n",
    "plt.xlabel('Transcript Lengths')\n",
    "plt.ylabel('MFCC Lengths')\n",
    "plt.xlim([-4,150])\n",
    "plt.ylim([-4,550])\n",
    "plt.legend(loc='lower right', prop={'size':6})\n",
    "plt.title('Scatter plot and Linear Regression')\n",
    "plt.grid(which='major', alpha=0.3)\n",
    "\n",
    "plt.subplot(1,2,2)\n",
    "plt.scatter(df_cleaned['len_transkrip'], df_cleaned['len_mfcc'], c='b', s=20, marker='x', label='Cleaned Data Points')\n",
    "plt.plot(df_komparasi_len_train['len_transkrip'], preds, 'r-', label='Linear Plot')\n",
    "plt.plot(x, 3.36606827*(x + P) + 14.98861941, 'g--',label='Left Threshold')\n",
    "plt.plot(x, 3.36606827*(x - P) + 14.98861941, 'g--',label='Right Threshold')\n",
    "plt.xlabel('Transcript Lengths')\n",
    "plt.ylabel('MFCC Lengths')\n",
    "plt.xlim([-4,150])\n",
    "plt.ylim([-4,550])\n",
    "plt.legend(loc='lower right', prop={'size':6})\n",
    "plt.title('Scatter plot and Linear Regression (Outliers Removed)')\n",
    "plt.grid(which='major', alpha=0.3)\n",
    "\n",
    "plt.tight_layout()\n",
    "plt.show()"
   ]
  },
  {
   "cell_type": "code",
   "execution_count": 41,
   "id": "f80ee56d-3eec-47bd-8fb1-6405336396fd",
   "metadata": {
    "tags": []
   },
   "outputs": [
    {
     "name": "stdout",
     "output_type": "stream",
     "text": [
      "Number of dropped dataset: 18\n"
     ]
    }
   ],
   "source": [
    "print(f\"Number of dropped dataset: {len(df_komparasi_len_train) - len(df_cleaned)}\")"
   ]
  },
  {
   "cell_type": "code",
   "execution_count": 42,
   "id": "fef4d9d7-7e17-4071-9422-a3061fcc7e92",
   "metadata": {
    "tags": []
   },
   "outputs": [],
   "source": [
    "cleaned_index = pd.Series(df_cleaned.index.tolist())\n",
    "uncleaned_index = pd.Series(df_train_filtered.index.tolist())"
   ]
  },
  {
   "cell_type": "code",
   "execution_count": 43,
   "id": "8b76aed2-5bc8-448f-bc2c-a32fba2fcdf6",
   "metadata": {
    "tags": []
   },
   "outputs": [],
   "source": [
    "not_cleaned_index = uncleaned_index[~uncleaned_index.isin(cleaned_index)].tolist()"
   ]
  },
  {
   "cell_type": "code",
   "execution_count": 44,
   "id": "20701a7b-af22-4a84-8588-6e47080cdab0",
   "metadata": {
    "tags": []
   },
   "outputs": [
    {
     "data": {
      "text/html": [
       "<div>\n",
       "<style scoped>\n",
       "    .dataframe tbody tr th:only-of-type {\n",
       "        vertical-align: middle;\n",
       "    }\n",
       "\n",
       "    .dataframe tbody tr th {\n",
       "        vertical-align: top;\n",
       "    }\n",
       "\n",
       "    .dataframe thead th {\n",
       "        text-align: right;\n",
       "    }\n",
       "</style>\n",
       "<table border=\"1\" class=\"dataframe\">\n",
       "  <thead>\n",
       "    <tr style=\"text-align: right;\">\n",
       "      <th></th>\n",
       "      <th>path</th>\n",
       "      <th>sentence</th>\n",
       "    </tr>\n",
       "  </thead>\n",
       "  <tbody>\n",
       "    <tr>\n",
       "      <th>1</th>\n",
       "      <td>common_voice_id_21699230.mp3</td>\n",
       "      <td>saya dibonceng di belakang sepeda teman</td>\n",
       "    </tr>\n",
       "    <tr>\n",
       "      <th>4</th>\n",
       "      <td>common_voice_id_21195036.mp3</td>\n",
       "      <td>saat libur musim panas tahun ini saya pergi ke...</td>\n",
       "    </tr>\n",
       "    <tr>\n",
       "      <th>13</th>\n",
       "      <td>common_voice_id_19648040.mp3</td>\n",
       "      <td>tom terlihat seperti sedang sedih</td>\n",
       "    </tr>\n",
       "    <tr>\n",
       "      <th>38</th>\n",
       "      <td>common_voice_id_19821432.mp3</td>\n",
       "      <td>saya melihat film</td>\n",
       "    </tr>\n",
       "    <tr>\n",
       "      <th>54</th>\n",
       "      <td>common_voice_id_20953394.mp3</td>\n",
       "      <td>istri pak tanaka dosen universitas</td>\n",
       "    </tr>\n",
       "    <tr>\n",
       "      <th>160</th>\n",
       "      <td>common_voice_id_21700142.mp3</td>\n",
       "      <td>pak kimura kadang kadang membuat makan malam</td>\n",
       "    </tr>\n",
       "    <tr>\n",
       "      <th>191</th>\n",
       "      <td>common_voice_id_26019217.mp3</td>\n",
       "      <td>ingebrigtsen menulis lagu true friendship untu...</td>\n",
       "    </tr>\n",
       "    <tr>\n",
       "      <th>201</th>\n",
       "      <td>common_voice_id_25469772.mp3</td>\n",
       "      <td>aku suka menyikat gigi dengan pasta gigi ini</td>\n",
       "    </tr>\n",
       "    <tr>\n",
       "      <th>278</th>\n",
       "      <td>common_voice_id_21698845.mp3</td>\n",
       "      <td>percayakah anda bahwa takdir takdir kita dipen...</td>\n",
       "    </tr>\n",
       "    <tr>\n",
       "      <th>320</th>\n",
       "      <td>common_voice_id_21699828.mp3</td>\n",
       "      <td>kemarin saya tidak pergi ke perusahaan tetapi ...</td>\n",
       "    </tr>\n",
       "    <tr>\n",
       "      <th>331</th>\n",
       "      <td>common_voice_id_21193948.mp3</td>\n",
       "      <td>pak kobayashi memberi separuh roti kepada pak ...</td>\n",
       "    </tr>\n",
       "    <tr>\n",
       "      <th>417</th>\n",
       "      <td>common_voice_id_27404665.mp3</td>\n",
       "      <td>tom kehilangan anak laki lakinya akibat kecela...</td>\n",
       "    </tr>\n",
       "    <tr>\n",
       "      <th>556</th>\n",
       "      <td>common_voice_id_20954381.mp3</td>\n",
       "      <td>saya akan memanggil satu taksi</td>\n",
       "    </tr>\n",
       "    <tr>\n",
       "      <th>569</th>\n",
       "      <td>common_voice_id_21699039.mp3</td>\n",
       "      <td>setelah memasukkan gula kemudian saya memasukk...</td>\n",
       "    </tr>\n",
       "    <tr>\n",
       "      <th>597</th>\n",
       "      <td>common_voice_id_21193940.mp3</td>\n",
       "      <td>dia memiliki lengan dan kaki yang panjang</td>\n",
       "    </tr>\n",
       "    <tr>\n",
       "      <th>599</th>\n",
       "      <td>common_voice_id_20953743.mp3</td>\n",
       "      <td>mengapa aku harus menolong tom</td>\n",
       "    </tr>\n",
       "    <tr>\n",
       "      <th>686</th>\n",
       "      <td>common_voice_id_21193902.mp3</td>\n",
       "      <td>kamu nanti akan mendengar cerita ini</td>\n",
       "    </tr>\n",
       "    <tr>\n",
       "      <th>730</th>\n",
       "      <td>common_voice_id_21194781.mp3</td>\n",
       "      <td>ruangan ini mendapat sedikit sinar matahari</td>\n",
       "    </tr>\n",
       "  </tbody>\n",
       "</table>\n",
       "</div>"
      ],
      "text/plain": [
       "                             path  \\\n",
       "1    common_voice_id_21699230.mp3   \n",
       "4    common_voice_id_21195036.mp3   \n",
       "13   common_voice_id_19648040.mp3   \n",
       "38   common_voice_id_19821432.mp3   \n",
       "54   common_voice_id_20953394.mp3   \n",
       "160  common_voice_id_21700142.mp3   \n",
       "191  common_voice_id_26019217.mp3   \n",
       "201  common_voice_id_25469772.mp3   \n",
       "278  common_voice_id_21698845.mp3   \n",
       "320  common_voice_id_21699828.mp3   \n",
       "331  common_voice_id_21193948.mp3   \n",
       "417  common_voice_id_27404665.mp3   \n",
       "556  common_voice_id_20954381.mp3   \n",
       "569  common_voice_id_21699039.mp3   \n",
       "597  common_voice_id_21193940.mp3   \n",
       "599  common_voice_id_20953743.mp3   \n",
       "686  common_voice_id_21193902.mp3   \n",
       "730  common_voice_id_21194781.mp3   \n",
       "\n",
       "                                              sentence  \n",
       "1              saya dibonceng di belakang sepeda teman  \n",
       "4    saat libur musim panas tahun ini saya pergi ke...  \n",
       "13                   tom terlihat seperti sedang sedih  \n",
       "38                                   saya melihat film  \n",
       "54                  istri pak tanaka dosen universitas  \n",
       "160       pak kimura kadang kadang membuat makan malam  \n",
       "191  ingebrigtsen menulis lagu true friendship untu...  \n",
       "201       aku suka menyikat gigi dengan pasta gigi ini  \n",
       "278  percayakah anda bahwa takdir takdir kita dipen...  \n",
       "320  kemarin saya tidak pergi ke perusahaan tetapi ...  \n",
       "331  pak kobayashi memberi separuh roti kepada pak ...  \n",
       "417  tom kehilangan anak laki lakinya akibat kecela...  \n",
       "556                     saya akan memanggil satu taksi  \n",
       "569  setelah memasukkan gula kemudian saya memasukk...  \n",
       "597          dia memiliki lengan dan kaki yang panjang  \n",
       "599                     mengapa aku harus menolong tom  \n",
       "686               kamu nanti akan mendengar cerita ini  \n",
       "730        ruangan ini mendapat sedikit sinar matahari  "
      ]
     },
     "execution_count": 44,
     "metadata": {},
     "output_type": "execute_result"
    }
   ],
   "source": [
    "df_train_filtered.loc[not_cleaned_index]"
   ]
  },
  {
   "cell_type": "code",
   "execution_count": 45,
   "id": "5cb67641-2a84-4c5d-be55-5925fff03130",
   "metadata": {
    "tags": []
   },
   "outputs": [],
   "source": [
    "df_train_filtered_cleaned = df_train_filtered.loc[cleaned_index].reset_index(drop=True)"
   ]
  },
  {
   "cell_type": "code",
   "execution_count": 46,
   "id": "64c91f37-2e9a-421c-b8da-966e593897c6",
   "metadata": {
    "tags": []
   },
   "outputs": [],
   "source": [
    "df_train_filtered_cleaned.to_csv('df_train_filtered_polyfit_sampel2693.csv', index=False)"
   ]
  },
  {
   "cell_type": "code",
   "execution_count": 59,
   "id": "07fb613c-041f-4cd6-b1ff-b82cddf5e458",
   "metadata": {
    "tags": []
   },
   "outputs": [
    {
     "name": "stdout",
     "output_type": "stream",
     "text": [
      "524\n",
      "379\n"
     ]
    }
   ],
   "source": [
    "print(np.max(list_len_data_train)) # This should be fixed\n",
    "print(np.argmax(list_len_data_train)) "
   ]
  },
  {
   "cell_type": "markdown",
   "id": "c8eecb5c-7654-4db9-8764-c0b5713a9582",
   "metadata": {
    "tags": []
   },
   "source": [
    "## Add Paddings to Tensors"
   ]
  },
  {
   "cell_type": "code",
   "execution_count": 54,
   "id": "fad9e241-b085-4df8-856b-4f43d2ad32ca",
   "metadata": {
    "tags": []
   },
   "outputs": [],
   "source": [
    "def add_padding(mfcc_tensor, index):\n",
    "    height, width = np.array(mfcc_tensor[index][0]).shape[0], np.array(mfcc_tensor[index][0]).shape[1]\n",
    "    \n",
    "    padded_mfcc = np.zeros([524, 64])\n",
    "    padded_mfcc[:height, :width] = mfcc_tensor[index][0]\n",
    "    return padded_mfcc"
   ]
  },
  {
   "cell_type": "code",
   "execution_count": 55,
   "id": "70e3794a-ae96-421d-b7fa-3c2e5a1275bc",
   "metadata": {
    "tags": []
   },
   "outputs": [
    {
     "name": "stdout",
     "output_type": "stream",
     "text": [
      "path                   common_voice_id_21699230.mp3\n",
      "sentence    saya dibonceng di belakang sepeda teman\n",
      "Name: 1, dtype: object\n",
      "path                             common_voice_id_21195036.mp3\n",
      "sentence    saat libur musim panas tahun ini saya pergi ke...\n",
      "Name: 4, dtype: object\n"
     ]
    }
   ],
   "source": [
    "print(df_train_filtered.iloc[1])\n",
    "print(df_train_filtered.iloc[4])"
   ]
  },
  {
   "cell_type": "code",
   "execution_count": 56,
   "id": "39d14b61-dc40-43c2-838c-f6d4bd11d76b",
   "metadata": {
    "tags": []
   },
   "outputs": [
    {
     "data": {
      "text/plain": [
       "784"
      ]
     },
     "execution_count": 56,
     "metadata": {},
     "output_type": "execute_result"
    }
   ],
   "source": [
    "len(dataset_train)"
   ]
  },
  {
   "cell_type": "code",
   "execution_count": 57,
   "id": "8bdb5a34-c352-400a-9dbb-c34087d9f9be",
   "metadata": {
    "tags": []
   },
   "outputs": [],
   "source": [
    "def plot_spectrogram(specgram, title=None, ylabel=\"freq_bin\"):\n",
    "    fig, axs = plt.subplots(1, 1)\n",
    "    fig.set_figheight(4)\n",
    "    fig.set_figwidth(8)\n",
    "    axs.set_title(title)\n",
    "    axs.set_ylabel(ylabel)\n",
    "    axs.set_xlabel(\"frame\")\n",
    "    im = axs.imshow(librosa.power_to_db(specgram), origin=\"lower\", aspect=\"auto\", interpolation=\"nearest\")\n",
    "    fig.colorbar(im, ax=axs)\n",
    "    plt.show(block=False)"
   ]
  },
  {
   "cell_type": "code",
   "execution_count": 58,
   "id": "1ff6419e-44f7-4aa4-a992-16489df79760",
   "metadata": {
    "tags": []
   },
   "outputs": [
    {
     "data": {
      "image/png": "[encoded data removed]",
      "text/plain": [
       "<Figure size 800x400 with 2 Axes>"
      ]
     },
     "metadata": {},
     "output_type": "display_data"
    }
   ],
   "source": [
    "import librosa\n",
    "plot_spectrogram(add_padding(dataset_train, 379).T)"
   ]
  },
  {
   "cell_type": "code",
   "execution_count": 29,
   "id": "a8318e17-6c58-4942-ae13-7617757fd0c5",
   "metadata": {
    "tags": []
   },
   "outputs": [],
   "source": [
    "train_dataset_list = []\n",
    "for i in range(len(dataset)):\n",
    "    dataset_list.append([add_padding(dataset_train, i).tolist()])"
   ]
  },
  {
   "cell_type": "code",
   "execution_count": 30,
   "id": "399e8646-5850-4516-a14a-ae4836c21e4e",
   "metadata": {
    "tags": []
   },
   "outputs": [],
   "source": [
    "dataset_list = torch.tensor(dataset_list)"
   ]
  },
  {
   "cell_type": "code",
   "execution_count": 31,
   "id": "cb6de7a6-7181-40bf-a53e-d72e28bc3866",
   "metadata": {
    "tags": []
   },
   "outputs": [
    {
     "data": {
      "text/plain": [
       "torch.Size([2056, 1, 512, 64])"
      ]
     },
     "execution_count": 31,
     "metadata": {},
     "output_type": "execute_result"
    }
   ],
   "source": [
    "dataset_list.shape"
   ]
  },
  {
   "cell_type": "code",
   "execution_count": 32,
   "id": "838fd6f9-7ac8-4d42-b25b-5beebc051665",
   "metadata": {
    "tags": []
   },
   "outputs": [],
   "source": [
    "num_alpha = 28"
   ]
  },
  {
   "cell_type": "code",
   "execution_count": 258,
   "id": "00b5619a-571d-4291-bef5-b3b8e7d0c2e6",
   "metadata": {
    "tags": []
   },
   "outputs": [],
   "source": [
    "dataset_list = dataset_list.to(device)"
   ]
  },
  {
   "cell_type": "markdown",
   "id": "98075655-7ecc-4cc6-bc63-1d9ed91839d1",
   "metadata": {},
   "source": [
    "## Prepare Model"
   ]
  },
  {
   "cell_type": "code",
   "execution_count": 3,
   "id": "a9ca637f-962c-4af4-8fb8-faacbdbcccbf",
   "metadata": {
    "tags": []
   },
   "outputs": [
    {
     "name": "stdout",
     "output_type": "stream",
     "text": [
      "==========================================================================================\n",
      "Layer (type:depth-idx)                   Output Shape              Param #\n",
      "==========================================================================================\n",
      "CRNN                                     [8, 256, 28]              --\n",
      "├─Conv2d: 1-1                            [8, 64, 512, 64]          640\n",
      "├─BatchNorm2d: 1-2                       [8, 64, 512, 64]          128\n",
      "├─MaxPool2d: 1-3                         [8, 64, 256, 32]          --\n",
      "├─Conv2d: 1-4                            [8, 128, 256, 32]         73,856\n",
      "├─BatchNorm2d: 1-5                       [8, 128, 256, 32]         256\n",
      "├─MaxPool2d: 1-6                         [8, 128, 128, 16]         --\n",
      "├─Dropout2d: 1-7                         [8, 128, 128, 16]         --\n",
      "├─Conv2d: 1-8                            [8, 256, 128, 16]         295,168\n",
      "├─BatchNorm2d: 1-9                       [8, 256, 128, 16]         512\n",
      "├─MaxPool2d: 1-10                        [8, 256, 64, 8]           --\n",
      "├─Dropout2d: 1-11                        [8, 256, 64, 8]           --\n",
      "├─Linear: 1-12                           [8, 256, 512]             262,656\n",
      "├─LSTM: 1-13                             [8, 256, 512]             1,576,960\n",
      "├─LSTM: 1-14                             [8, 256, 512]             1,576,960\n",
      "├─Linear: 1-15                           [8, 256, 28]              14,364\n",
      "==========================================================================================\n",
      "Total params: 3,801,500\n",
      "Trainable params: 3,801,500\n",
      "Non-trainable params: 0\n",
      "Total mult-adds (G): 16.31\n",
      "==========================================================================================\n",
      "Input size (MB): 1.05\n",
      "Forward/backward pass size (MB): 495.39\n",
      "Params size (MB): 15.21\n",
      "Estimated Total Size (MB): 511.64\n",
      "==========================================================================================\n",
      "---------------- SAMPLE OUTPUT -----------------\n",
      "tensor([[[0.0370, 0.0393, 0.0356,  ..., 0.0332, 0.0368, 0.0351],\n",
      "         [0.0367, 0.0398, 0.0357,  ..., 0.0328, 0.0366, 0.0354],\n",
      "         [0.0359, 0.0414, 0.0362,  ..., 0.0320, 0.0367, 0.0351],\n",
      "         ...,\n",
      "         [0.0355, 0.0429, 0.0369,  ..., 0.0321, 0.0386, 0.0357],\n",
      "         [0.0351, 0.0436, 0.0363,  ..., 0.0321, 0.0387, 0.0354],\n",
      "         [0.0349, 0.0429, 0.0359,  ..., 0.0332, 0.0389, 0.0345]],\n",
      "\n",
      "        [[0.0359, 0.0386, 0.0356,  ..., 0.0338, 0.0370, 0.0360],\n",
      "         [0.0349, 0.0400, 0.0358,  ..., 0.0336, 0.0371, 0.0357],\n",
      "         [0.0354, 0.0395, 0.0355,  ..., 0.0344, 0.0374, 0.0354],\n",
      "         ...,\n",
      "         [0.0349, 0.0415, 0.0361,  ..., 0.0312, 0.0383, 0.0346],\n",
      "         [0.0350, 0.0419, 0.0365,  ..., 0.0318, 0.0380, 0.0340],\n",
      "         [0.0355, 0.0408, 0.0357,  ..., 0.0335, 0.0380, 0.0340]],\n",
      "\n",
      "        [[0.0363, 0.0388, 0.0357,  ..., 0.0335, 0.0370, 0.0356],\n",
      "         [0.0360, 0.0400, 0.0361,  ..., 0.0326, 0.0373, 0.0360],\n",
      "         [0.0362, 0.0399, 0.0360,  ..., 0.0320, 0.0376, 0.0362],\n",
      "         ...,\n",
      "         [0.0359, 0.0395, 0.0356,  ..., 0.0339, 0.0376, 0.0350],\n",
      "         [0.0358, 0.0395, 0.0355,  ..., 0.0340, 0.0375, 0.0349],\n",
      "         [0.0360, 0.0386, 0.0352,  ..., 0.0343, 0.0376, 0.0343]],\n",
      "\n",
      "        ...,\n",
      "\n",
      "        [[0.0356, 0.0411, 0.0357,  ..., 0.0326, 0.0377, 0.0353],\n",
      "         [0.0354, 0.0430, 0.0363,  ..., 0.0323, 0.0379, 0.0350],\n",
      "         [0.0359, 0.0424, 0.0365,  ..., 0.0333, 0.0376, 0.0351],\n",
      "         ...,\n",
      "         [0.0357, 0.0424, 0.0356,  ..., 0.0333, 0.0382, 0.0358],\n",
      "         [0.0359, 0.0420, 0.0358,  ..., 0.0330, 0.0388, 0.0355],\n",
      "         [0.0353, 0.0419, 0.0357,  ..., 0.0333, 0.0385, 0.0347]],\n",
      "\n",
      "        [[0.0360, 0.0398, 0.0366,  ..., 0.0326, 0.0379, 0.0351],\n",
      "         [0.0358, 0.0416, 0.0370,  ..., 0.0323, 0.0379, 0.0355],\n",
      "         [0.0355, 0.0420, 0.0374,  ..., 0.0326, 0.0375, 0.0352],\n",
      "         ...,\n",
      "         [0.0348, 0.0438, 0.0359,  ..., 0.0321, 0.0379, 0.0350],\n",
      "         [0.0353, 0.0427, 0.0359,  ..., 0.0334, 0.0382, 0.0351],\n",
      "         [0.0351, 0.0424, 0.0361,  ..., 0.0334, 0.0380, 0.0345]],\n",
      "\n",
      "        [[0.0367, 0.0394, 0.0352,  ..., 0.0328, 0.0378, 0.0353],\n",
      "         [0.0365, 0.0409, 0.0360,  ..., 0.0326, 0.0371, 0.0352],\n",
      "         [0.0367, 0.0415, 0.0363,  ..., 0.0322, 0.0369, 0.0350],\n",
      "         ...,\n",
      "         [0.0363, 0.0416, 0.0357,  ..., 0.0335, 0.0380, 0.0350],\n",
      "         [0.0367, 0.0406, 0.0353,  ..., 0.0338, 0.0376, 0.0351],\n",
      "         [0.0367, 0.0392, 0.0352,  ..., 0.0343, 0.0376, 0.0346]]],\n",
      "       device='cuda:0', grad_fn=<SoftmaxBackward0>)\n"
     ]
    }
   ],
   "source": [
    "num_classes = 28\n",
    "batch_size = 8\n",
    "\n",
    "device = torch.device(\"cuda\" if torch.cuda.is_available() else \"cpu\")\n",
    "model = CRNN(num_classes).to(device)\n",
    "sample_input = torch.randn(batch_size, 1, 512, 64).to(device)\n",
    "print(summary(model, input_size=(batch_size, 1, 512, 64)))\n",
    "print('---------------- SAMPLE OUTPUT -----------------')\n",
    "print(model(torch.randn(batch_size, 1, 512, 64).to(device)))"
   ]
  },
  {
   "cell_type": "code",
   "execution_count": 189,
   "id": "0c21130a-edd6-437d-975b-cafe9370e977",
   "metadata": {
    "tags": []
   },
   "outputs": [
    {
     "name": "stdout",
     "output_type": "stream",
     "text": [
      "Epoch [1/10] Batch [1/257] Loss: nan Avg Loss: nan\n",
      "Epoch [1/10] Batch [2/257] Loss: nan Avg Loss: nan\n",
      "Epoch [1/10] Batch [3/257] Loss: nan Avg Loss: nan\n",
      "Epoch [1/10] Batch [4/257] Loss: nan Avg Loss: nan\n",
      "Epoch [1/10] Batch [5/257] Loss: nan Avg Loss: nan\n",
      "Epoch [1/10] Batch [6/257] Loss: nan Avg Loss: nan\n",
      "Epoch [1/10] Batch [7/257] Loss: nan Avg Loss: nan\n",
      "Epoch [1/10] Batch [8/257] Loss: nan Avg Loss: nan\n",
      "Epoch [1/10] Batch [9/257] Loss: nan Avg Loss: nan\n",
      "Epoch [1/10] Batch [10/257] Loss: nan Avg Loss: nan\n",
      "Epoch [1/10] Batch [11/257] Loss: nan Avg Loss: nan\n",
      "Epoch [1/10] Batch [12/257] Loss: nan Avg Loss: nan\n",
      "Epoch [1/10] Batch [13/257] Loss: nan Avg Loss: nan\n",
      "Epoch [1/10] Batch [14/257] Loss: nan Avg Loss: nan\n",
      "Epoch [1/10] Batch [15/257] Loss: nan Avg Loss: nan\n",
      "Epoch [1/10] Batch [16/257] Loss: nan Avg Loss: nan\n",
      "Epoch [1/10] Batch [17/257] Loss: nan Avg Loss: nan\n",
      "Epoch [1/10] Batch [18/257] Loss: nan Avg Loss: nan\n",
      "Epoch [1/10] Batch [19/257] Loss: nan Avg Loss: nan\n",
      "Epoch [1/10] Batch [20/257] Loss: nan Avg Loss: nan\n",
      "Epoch [1/10] Batch [21/257] Loss: nan Avg Loss: nan\n",
      "Epoch [1/10] Batch [22/257] Loss: nan Avg Loss: nan\n"
     ]
    },
    {
     "ename": "KeyboardInterrupt",
     "evalue": "",
     "output_type": "error",
     "traceback": [
      "\u001b[1;31m---------------------------------------------------------------------------\u001b[0m",
      "\u001b[1;31mKeyboardInterrupt\u001b[0m                         Traceback (most recent call last)",
      "Cell \u001b[1;32mIn[189], line 46\u001b[0m\n\u001b[0;32m     43\u001b[0m output \u001b[38;5;241m=\u001b[39m output\u001b[38;5;241m.\u001b[39mpermute(\u001b[38;5;241m1\u001b[39m, \u001b[38;5;241m0\u001b[39m, \u001b[38;5;241m2\u001b[39m)\n\u001b[0;32m     45\u001b[0m loss \u001b[38;5;241m=\u001b[39m criterion(output, batch_labels_padded, output_length, label_length)\n\u001b[1;32m---> 46\u001b[0m \u001b[43mloss\u001b[49m\u001b[38;5;241;43m.\u001b[39;49m\u001b[43mbackward\u001b[49m\u001b[43m(\u001b[49m\u001b[43m)\u001b[49m\n\u001b[0;32m     48\u001b[0m \u001b[38;5;66;03m# Apply gradient clipping to prevent gradient explosion\u001b[39;00m\n\u001b[0;32m     49\u001b[0m torch\u001b[38;5;241m.\u001b[39mnn\u001b[38;5;241m.\u001b[39mutils\u001b[38;5;241m.\u001b[39mclip_grad_norm_(model\u001b[38;5;241m.\u001b[39mparameters(), max_norm\u001b[38;5;241m=\u001b[39m\u001b[38;5;241m1.0\u001b[39m)\n",
      "File \u001b[1;32m~\\anaconda3\\envs\\avalon_pytorch\\lib\\site-packages\\torch\\_tensor.py:487\u001b[0m, in \u001b[0;36mTensor.backward\u001b[1;34m(self, gradient, retain_graph, create_graph, inputs)\u001b[0m\n\u001b[0;32m    477\u001b[0m \u001b[38;5;28;01mif\u001b[39;00m has_torch_function_unary(\u001b[38;5;28mself\u001b[39m):\n\u001b[0;32m    478\u001b[0m     \u001b[38;5;28;01mreturn\u001b[39;00m handle_torch_function(\n\u001b[0;32m    479\u001b[0m         Tensor\u001b[38;5;241m.\u001b[39mbackward,\n\u001b[0;32m    480\u001b[0m         (\u001b[38;5;28mself\u001b[39m,),\n\u001b[1;32m   (...)\u001b[0m\n\u001b[0;32m    485\u001b[0m         inputs\u001b[38;5;241m=\u001b[39minputs,\n\u001b[0;32m    486\u001b[0m     )\n\u001b[1;32m--> 487\u001b[0m \u001b[43mtorch\u001b[49m\u001b[38;5;241;43m.\u001b[39;49m\u001b[43mautograd\u001b[49m\u001b[38;5;241;43m.\u001b[39;49m\u001b[43mbackward\u001b[49m\u001b[43m(\u001b[49m\n\u001b[0;32m    488\u001b[0m \u001b[43m    \u001b[49m\u001b[38;5;28;43mself\u001b[39;49m\u001b[43m,\u001b[49m\u001b[43m \u001b[49m\u001b[43mgradient\u001b[49m\u001b[43m,\u001b[49m\u001b[43m \u001b[49m\u001b[43mretain_graph\u001b[49m\u001b[43m,\u001b[49m\u001b[43m \u001b[49m\u001b[43mcreate_graph\u001b[49m\u001b[43m,\u001b[49m\u001b[43m \u001b[49m\u001b[43minputs\u001b[49m\u001b[38;5;241;43m=\u001b[39;49m\u001b[43minputs\u001b[49m\n\u001b[0;32m    489\u001b[0m \u001b[43m\u001b[49m\u001b[43m)\u001b[49m\n",
      "File \u001b[1;32m~\\anaconda3\\envs\\avalon_pytorch\\lib\\site-packages\\torch\\autograd\\__init__.py:200\u001b[0m, in \u001b[0;36mbackward\u001b[1;34m(tensors, grad_tensors, retain_graph, create_graph, grad_variables, inputs)\u001b[0m\n\u001b[0;32m    195\u001b[0m     retain_graph \u001b[38;5;241m=\u001b[39m create_graph\n\u001b[0;32m    197\u001b[0m \u001b[38;5;66;03m# The reason we repeat same the comment below is that\u001b[39;00m\n\u001b[0;32m    198\u001b[0m \u001b[38;5;66;03m# some Python versions print out the first line of a multi-line function\u001b[39;00m\n\u001b[0;32m    199\u001b[0m \u001b[38;5;66;03m# calls in the traceback and some print out the last line\u001b[39;00m\n\u001b[1;32m--> 200\u001b[0m \u001b[43mVariable\u001b[49m\u001b[38;5;241;43m.\u001b[39;49m\u001b[43m_execution_engine\u001b[49m\u001b[38;5;241;43m.\u001b[39;49m\u001b[43mrun_backward\u001b[49m\u001b[43m(\u001b[49m\u001b[43m  \u001b[49m\u001b[38;5;66;43;03m# Calls into the C++ engine to run the backward pass\u001b[39;49;00m\n\u001b[0;32m    201\u001b[0m \u001b[43m    \u001b[49m\u001b[43mtensors\u001b[49m\u001b[43m,\u001b[49m\u001b[43m \u001b[49m\u001b[43mgrad_tensors_\u001b[49m\u001b[43m,\u001b[49m\u001b[43m \u001b[49m\u001b[43mretain_graph\u001b[49m\u001b[43m,\u001b[49m\u001b[43m \u001b[49m\u001b[43mcreate_graph\u001b[49m\u001b[43m,\u001b[49m\u001b[43m \u001b[49m\u001b[43minputs\u001b[49m\u001b[43m,\u001b[49m\n\u001b[0;32m    202\u001b[0m \u001b[43m    \u001b[49m\u001b[43mallow_unreachable\u001b[49m\u001b[38;5;241;43m=\u001b[39;49m\u001b[38;5;28;43;01mTrue\u001b[39;49;00m\u001b[43m,\u001b[49m\u001b[43m \u001b[49m\u001b[43maccumulate_grad\u001b[49m\u001b[38;5;241;43m=\u001b[39;49m\u001b[38;5;28;43;01mTrue\u001b[39;49;00m\u001b[43m)\u001b[49m\n",
      "\u001b[1;31mKeyboardInterrupt\u001b[0m: "
     ]
    }
   ],
   "source": [
    "from torch.utils.data import Dataset, DataLoader\n",
    "import torch.optim as optim\n",
    "\n",
    "class YourCustomDataset():\n",
    "    def __init__(self, dataset_list, train_y):\n",
    "        self.dataset_list = dataset_list\n",
    "        self.train_y = train_y\n",
    "\n",
    "    def __len__(self):\n",
    "        return len(self.dataset_list)\n",
    "\n",
    "    def __getitem__(self, idx):\n",
    "        return self.dataset_list[idx], self.train_y[idx], 256, 256\n",
    "\n",
    "batch_size = 8  # Modify as needed\n",
    "dataset = YourCustomDataset(dataset_list, train_y)\n",
    "dataloader = DataLoader(dataset, batch_size=batch_size, shuffle=True)\n",
    "\n",
    "lr = 5e-4\n",
    "criterion = nn.CTCLoss(blank=27, zero_infinity=False)\n",
    "optimizer = optim.Adam(model.parameters(), lr=lr)\n",
    "\n",
    "# Training loop\n",
    "num_epochs = 10\n",
    "\n",
    "for epoch in range(num_epochs):\n",
    "    total_loss = 0.0\n",
    "    num_batches = len(dataloader)\n",
    "\n",
    "    for batch_idx, (batch_data, batch_labels) in enumerate(dataloader):\n",
    "        batch_data = batch_data.to(device)\n",
    "        optimizer.zero_grad()\n",
    "        output = model(batch_data)\n",
    "\n",
    "        output_length = torch.full((batch_data.size(0),), output.size(1), dtype=torch.long)\n",
    "        label_length = torch.tensor([len(label) for label in batch_labels], dtype=torch.long)\n",
    "\n",
    "        batch_labels_padded = pad_sequence(batch_labels, batch_first=True)\n",
    "\n",
    "        output = output.permute(1, 0, 2)\n",
    "\n",
    "        loss = criterion(output, batch_labels_padded, output_length, label_length)\n",
    "        loss.backward()\n",
    "\n",
    "        torch.nn.utils.clip_grad_norm_(model.parameters(), max_norm=1.0)\n",
    "\n",
    "        optimizer.step()\n",
    "\n",
    "        total_loss += loss.item()\n",
    "        avg_loss = total_loss / (batch_idx + 1)\n",
    "\n",
    "        print(f\"Epoch [{epoch + 1}/{num_epochs}] Batch [{batch_idx + 1}/{num_batches}] Loss: {loss.item():.4f} Avg Loss: {avg_loss:.4f}\")\n",
    "\n",
    "    print(f\"Epoch [{epoch + 1}/{num_epochs}] Average Loss: {avg_loss:.4f}\")\n",
    "\n",
    "print(\"Training finished!\")"
   ]
  },
  {
   "cell_type": "code",
   "execution_count": 89,
   "id": "f45c0901-acc2-4440-9c03-9c83edac833c",
   "metadata": {
    "tags": []
   },
   "outputs": [
    {
     "name": "stdout",
     "output_type": "stream",
     "text": [
      "(2056, 256)\n",
      "torch.Size([2056, 1, 512, 64])\n"
     ]
    }
   ],
   "source": [
    "print(train_y.shape)\n",
    "print(dataset_list.shape)"
   ]
  },
  {
   "cell_type": "code",
   "execution_count": 88,
   "id": "3fb3a6af-298c-4a62-99c5-da1c6bcb5352",
   "metadata": {
    "tags": []
   },
   "outputs": [],
   "source": [
    "train_y = train_y[:2056]"
   ]
  },
  {
   "cell_type": "code",
   "execution_count": 205,
   "id": "6a8272fe-5a16-439b-8289-26cbeddae3a4",
   "metadata": {
    "tags": []
   },
   "outputs": [],
   "source": [
    "class YourCustomDataset():\n",
    "    def __init__(self, dataset_list, train_y):\n",
    "        self.dataset_list = dataset_list\n",
    "        self.train_y = train_y\n",
    "\n",
    "    def __len__(self):\n",
    "        return len(self.dataset_list)\n",
    "\n",
    "    def __getitem__(self, idx):\n",
    "        return self.dataset_list[idx], self.train_y[idx], 8, 256\n"
   ]
  },
  {
   "cell_type": "code",
   "execution_count": 206,
   "id": "243d52a1-3abb-4942-9ca2-f20686dbdb5b",
   "metadata": {},
   "outputs": [
    {
     "ename": "RuntimeError",
     "evalue": "input_lengths must be of size batch_size",
     "output_type": "error",
     "traceback": [
      "\u001b[1;31m---------------------------------------------------------------------------\u001b[0m",
      "\u001b[1;31mRuntimeError\u001b[0m                              Traceback (most recent call last)",
      "Cell \u001b[1;32mIn[206], line 34\u001b[0m\n\u001b[0;32m     32\u001b[0m input_lengths \u001b[38;5;241m=\u001b[39m torch\u001b[38;5;241m.\u001b[39mfull(size\u001b[38;5;241m=\u001b[39m(inputs\u001b[38;5;241m.\u001b[39msize(\u001b[38;5;241m0\u001b[39m),), fill_value\u001b[38;5;241m=\u001b[39minputs\u001b[38;5;241m.\u001b[39msize(\u001b[38;5;241m2\u001b[39m), dtype\u001b[38;5;241m=\u001b[39mtorch\u001b[38;5;241m.\u001b[39mlong)  \u001b[38;5;66;03m# MFCC matrix width\u001b[39;00m\n\u001b[0;32m     33\u001b[0m target_lengths \u001b[38;5;241m=\u001b[39m target_lengths\u001b[38;5;241m.\u001b[39mto(torch\u001b[38;5;241m.\u001b[39mlong)\n\u001b[1;32m---> 34\u001b[0m loss \u001b[38;5;241m=\u001b[39m \u001b[43mctc_loss\u001b[49m\u001b[43m(\u001b[49m\u001b[43moutputs\u001b[49m\u001b[43m,\u001b[49m\u001b[43m \u001b[49m\u001b[43mtargets\u001b[49m\u001b[43m,\u001b[49m\u001b[43m \u001b[49m\u001b[43minput_lengths\u001b[49m\u001b[43m,\u001b[49m\u001b[43m \u001b[49m\u001b[43mtarget_lengths\u001b[49m\u001b[43m)\u001b[49m\n\u001b[0;32m     36\u001b[0m \u001b[38;5;66;03m# Backpropagation and optimization\u001b[39;00m\n\u001b[0;32m     37\u001b[0m loss\u001b[38;5;241m.\u001b[39mbackward()\n",
      "Cell \u001b[1;32mIn[206], line 3\u001b[0m, in \u001b[0;36mctc_loss\u001b[1;34m(log_probs, targets, input_lengths, target_lengths)\u001b[0m\n\u001b[0;32m      1\u001b[0m \u001b[38;5;28;01mdef\u001b[39;00m \u001b[38;5;21mctc_loss\u001b[39m(log_probs, targets, input_lengths, target_lengths):\n\u001b[0;32m      2\u001b[0m     ctc_loss \u001b[38;5;241m=\u001b[39m nn\u001b[38;5;241m.\u001b[39mCTCLoss(blank\u001b[38;5;241m=\u001b[39mnum_classes \u001b[38;5;241m-\u001b[39m \u001b[38;5;241m1\u001b[39m)  \u001b[38;5;66;03m# Use num_classes - 1 as the index for the blank symbol\u001b[39;00m\n\u001b[1;32m----> 3\u001b[0m     \u001b[38;5;28;01mreturn\u001b[39;00m \u001b[43mctc_loss\u001b[49m\u001b[43m(\u001b[49m\u001b[43mlog_probs\u001b[49m\u001b[43m,\u001b[49m\u001b[43m \u001b[49m\u001b[43mtargets\u001b[49m\u001b[43m,\u001b[49m\u001b[43m \u001b[49m\u001b[43minput_lengths\u001b[49m\u001b[43m,\u001b[49m\u001b[43m \u001b[49m\u001b[43mtarget_lengths\u001b[49m\u001b[43m)\u001b[49m\n",
      "File \u001b[1;32m~\\anaconda3\\envs\\avalon_pytorch\\lib\\site-packages\\torch\\nn\\modules\\module.py:1501\u001b[0m, in \u001b[0;36mModule._call_impl\u001b[1;34m(self, *args, **kwargs)\u001b[0m\n\u001b[0;32m   1496\u001b[0m \u001b[38;5;66;03m# If we don't have any hooks, we want to skip the rest of the logic in\u001b[39;00m\n\u001b[0;32m   1497\u001b[0m \u001b[38;5;66;03m# this function, and just call forward.\u001b[39;00m\n\u001b[0;32m   1498\u001b[0m \u001b[38;5;28;01mif\u001b[39;00m \u001b[38;5;129;01mnot\u001b[39;00m (\u001b[38;5;28mself\u001b[39m\u001b[38;5;241m.\u001b[39m_backward_hooks \u001b[38;5;129;01mor\u001b[39;00m \u001b[38;5;28mself\u001b[39m\u001b[38;5;241m.\u001b[39m_backward_pre_hooks \u001b[38;5;129;01mor\u001b[39;00m \u001b[38;5;28mself\u001b[39m\u001b[38;5;241m.\u001b[39m_forward_hooks \u001b[38;5;129;01mor\u001b[39;00m \u001b[38;5;28mself\u001b[39m\u001b[38;5;241m.\u001b[39m_forward_pre_hooks\n\u001b[0;32m   1499\u001b[0m         \u001b[38;5;129;01mor\u001b[39;00m _global_backward_pre_hooks \u001b[38;5;129;01mor\u001b[39;00m _global_backward_hooks\n\u001b[0;32m   1500\u001b[0m         \u001b[38;5;129;01mor\u001b[39;00m _global_forward_hooks \u001b[38;5;129;01mor\u001b[39;00m _global_forward_pre_hooks):\n\u001b[1;32m-> 1501\u001b[0m     \u001b[38;5;28;01mreturn\u001b[39;00m \u001b[43mforward_call\u001b[49m\u001b[43m(\u001b[49m\u001b[38;5;241;43m*\u001b[39;49m\u001b[43margs\u001b[49m\u001b[43m,\u001b[49m\u001b[43m \u001b[49m\u001b[38;5;241;43m*\u001b[39;49m\u001b[38;5;241;43m*\u001b[39;49m\u001b[43mkwargs\u001b[49m\u001b[43m)\u001b[49m\n\u001b[0;32m   1502\u001b[0m \u001b[38;5;66;03m# Do not call functions when jit is used\u001b[39;00m\n\u001b[0;32m   1503\u001b[0m full_backward_hooks, non_full_backward_hooks \u001b[38;5;241m=\u001b[39m [], []\n",
      "File \u001b[1;32m~\\anaconda3\\envs\\avalon_pytorch\\lib\\site-packages\\torch\\nn\\modules\\loss.py:1756\u001b[0m, in \u001b[0;36mCTCLoss.forward\u001b[1;34m(self, log_probs, targets, input_lengths, target_lengths)\u001b[0m\n\u001b[0;32m   1755\u001b[0m \u001b[38;5;28;01mdef\u001b[39;00m \u001b[38;5;21mforward\u001b[39m(\u001b[38;5;28mself\u001b[39m, log_probs: Tensor, targets: Tensor, input_lengths: Tensor, target_lengths: Tensor) \u001b[38;5;241m-\u001b[39m\u001b[38;5;241m>\u001b[39m Tensor:\n\u001b[1;32m-> 1756\u001b[0m     \u001b[38;5;28;01mreturn\u001b[39;00m \u001b[43mF\u001b[49m\u001b[38;5;241;43m.\u001b[39;49m\u001b[43mctc_loss\u001b[49m\u001b[43m(\u001b[49m\u001b[43mlog_probs\u001b[49m\u001b[43m,\u001b[49m\u001b[43m \u001b[49m\u001b[43mtargets\u001b[49m\u001b[43m,\u001b[49m\u001b[43m \u001b[49m\u001b[43minput_lengths\u001b[49m\u001b[43m,\u001b[49m\u001b[43m \u001b[49m\u001b[43mtarget_lengths\u001b[49m\u001b[43m,\u001b[49m\u001b[43m \u001b[49m\u001b[38;5;28;43mself\u001b[39;49m\u001b[38;5;241;43m.\u001b[39;49m\u001b[43mblank\u001b[49m\u001b[43m,\u001b[49m\u001b[43m \u001b[49m\u001b[38;5;28;43mself\u001b[39;49m\u001b[38;5;241;43m.\u001b[39;49m\u001b[43mreduction\u001b[49m\u001b[43m,\u001b[49m\n\u001b[0;32m   1757\u001b[0m \u001b[43m                      \u001b[49m\u001b[38;5;28;43mself\u001b[39;49m\u001b[38;5;241;43m.\u001b[39;49m\u001b[43mzero_infinity\u001b[49m\u001b[43m)\u001b[49m\n",
      "File \u001b[1;32m~\\anaconda3\\envs\\avalon_pytorch\\lib\\site-packages\\torch\\nn\\functional.py:2631\u001b[0m, in \u001b[0;36mctc_loss\u001b[1;34m(log_probs, targets, input_lengths, target_lengths, blank, reduction, zero_infinity)\u001b[0m\n\u001b[0;32m   2624\u001b[0m \u001b[38;5;28;01mif\u001b[39;00m has_torch_function_variadic(log_probs, targets, input_lengths, target_lengths):\n\u001b[0;32m   2625\u001b[0m     \u001b[38;5;28;01mreturn\u001b[39;00m handle_torch_function(\n\u001b[0;32m   2626\u001b[0m         ctc_loss,\n\u001b[0;32m   2627\u001b[0m         (log_probs, targets, input_lengths, target_lengths),\n\u001b[0;32m   2628\u001b[0m         log_probs, targets, input_lengths, target_lengths,\n\u001b[0;32m   2629\u001b[0m         blank\u001b[38;5;241m=\u001b[39mblank, reduction\u001b[38;5;241m=\u001b[39mreduction, zero_infinity\u001b[38;5;241m=\u001b[39mzero_infinity\n\u001b[0;32m   2630\u001b[0m     )\n\u001b[1;32m-> 2631\u001b[0m \u001b[38;5;28;01mreturn\u001b[39;00m \u001b[43mtorch\u001b[49m\u001b[38;5;241;43m.\u001b[39;49m\u001b[43mctc_loss\u001b[49m\u001b[43m(\u001b[49m\n\u001b[0;32m   2632\u001b[0m \u001b[43m    \u001b[49m\u001b[43mlog_probs\u001b[49m\u001b[43m,\u001b[49m\u001b[43m \u001b[49m\u001b[43mtargets\u001b[49m\u001b[43m,\u001b[49m\u001b[43m \u001b[49m\u001b[43minput_lengths\u001b[49m\u001b[43m,\u001b[49m\u001b[43m \u001b[49m\u001b[43mtarget_lengths\u001b[49m\u001b[43m,\u001b[49m\u001b[43m \u001b[49m\u001b[43mblank\u001b[49m\u001b[43m,\u001b[49m\u001b[43m \u001b[49m\u001b[43m_Reduction\u001b[49m\u001b[38;5;241;43m.\u001b[39;49m\u001b[43mget_enum\u001b[49m\u001b[43m(\u001b[49m\u001b[43mreduction\u001b[49m\u001b[43m)\u001b[49m\u001b[43m,\u001b[49m\u001b[43m \u001b[49m\u001b[43mzero_infinity\u001b[49m\n\u001b[0;32m   2633\u001b[0m \u001b[43m\u001b[49m\u001b[43m)\u001b[49m\n",
      "\u001b[1;31mRuntimeError\u001b[0m: input_lengths must be of size batch_size"
     ]
    }
   ],
   "source": [
    "def ctc_loss(log_probs, targets, input_lengths, target_lengths):\n",
    "    ctc_loss = nn.CTCLoss(blank=num_classes - 1)  # Use num_classes - 1 as the index for the blank symbol\n",
    "    return ctc_loss(log_probs, targets, input_lengths, target_lengths)\n",
    "\n",
    "# Hyperparameters\n",
    "num_classes = 28\n",
    "batch_size = 8\n",
    "num_epochs = 10\n",
    "learning_rate = 0.001\n",
    "\n",
    "# Initialize the model, optimizer, and device\n",
    "device = torch.device(\"cuda\" if torch.cuda.is_available() else \"cpu\")\n",
    "model = A_CRNN(num_classes, batch_size).to(device)\n",
    "optimizer = optim.Adam(model.parameters(), lr=learning_rate)\n",
    "\n",
    "# Assuming you have a custom dataset named 'your_dataset', and you have already split it into train and test sets\n",
    "train_dataset = YourCustomDataset(dataset_list, train_y)  # Modify this as per your dataset class\n",
    "train_loader = DataLoader(train_dataset, batch_size=batch_size, shuffle=True)\n",
    "\n",
    "# Training loop\n",
    "for epoch in range(num_epochs):\n",
    "    model.train()\n",
    "    total_loss = 0\n",
    "    for batch_idx, (inputs, targets, input_lengths, target_lengths) in enumerate(train_loader):\n",
    "        inputs, targets = inputs.to(device), targets.to(device)\n",
    "        optimizer.zero_grad()\n",
    "        \n",
    "        # Forward pass\n",
    "        outputs = model(inputs)\n",
    "        \n",
    "        # Calculate CTC loss\n",
    "        input_lengths = torch.full(size=(inputs.size(0),), fill_value=inputs.size(2), dtype=torch.long)  # MFCC matrix width\n",
    "        target_lengths = target_lengths.to(torch.long)\n",
    "        loss = ctc_loss(outputs, targets, input_lengths, target_lengths)\n",
    "        \n",
    "        # Backpropagation and optimization\n",
    "        loss.backward()\n",
    "        optimizer.step()\n",
    "        \n",
    "        total_loss += loss.item()\n",
    "    \n",
    "    avg_loss = total_loss / len(train_loader)\n",
    "    print(f\"Epoch {epoch + 1}/{num_epochs}, Loss: {avg_loss}\")\n",
    "\n",
    "# Save the trained model\n",
    "torch.save(model.state_dict(), \"trained_model.pt\")"
   ]
  },
  {
   "cell_type": "code",
   "execution_count": 251,
   "id": "24507130-65e2-4c1f-840c-941065ffce58",
   "metadata": {
    "tags": []
   },
   "outputs": [
    {
     "ename": "OutOfMemoryError",
     "evalue": "CUDA out of memory. Tried to allocate 16.00 MiB (GPU 0; 8.00 GiB total capacity; 7.15 GiB already allocated; 0 bytes free; 7.30 GiB reserved in total by PyTorch) If reserved memory is >> allocated memory try setting max_split_size_mb to avoid fragmentation.  See documentation for Memory Management and PYTORCH_CUDA_ALLOC_CONF",
     "output_type": "error",
     "traceback": [
      "\u001b[1;31m---------------------------------------------------------------------------\u001b[0m",
      "\u001b[1;31mOutOfMemoryError\u001b[0m                          Traceback (most recent call last)",
      "Cell \u001b[1;32mIn[251], line 1\u001b[0m\n\u001b[1;32m----> 1\u001b[0m y_pred \u001b[38;5;241m=\u001b[39m \u001b[43mmodel\u001b[49m\u001b[43m(\u001b[49m\u001b[43mbatch_data\u001b[49m\u001b[43m)\u001b[49m\n\u001b[0;32m      2\u001b[0m y_pred \u001b[38;5;241m=\u001b[39m y_pred\u001b[38;5;241m.\u001b[39mpermute(\u001b[38;5;241m1\u001b[39m, \u001b[38;5;241m0\u001b[39m, \u001b[38;5;241m2\u001b[39m)\n\u001b[0;32m      3\u001b[0m batch_size \u001b[38;5;241m=\u001b[39m \u001b[38;5;241m8\u001b[39m\n",
      "File \u001b[1;32m~\\anaconda3\\envs\\avalon_pytorch\\lib\\site-packages\\torch\\nn\\modules\\module.py:1501\u001b[0m, in \u001b[0;36mModule._call_impl\u001b[1;34m(self, *args, **kwargs)\u001b[0m\n\u001b[0;32m   1496\u001b[0m \u001b[38;5;66;03m# If we don't have any hooks, we want to skip the rest of the logic in\u001b[39;00m\n\u001b[0;32m   1497\u001b[0m \u001b[38;5;66;03m# this function, and just call forward.\u001b[39;00m\n\u001b[0;32m   1498\u001b[0m \u001b[38;5;28;01mif\u001b[39;00m \u001b[38;5;129;01mnot\u001b[39;00m (\u001b[38;5;28mself\u001b[39m\u001b[38;5;241m.\u001b[39m_backward_hooks \u001b[38;5;129;01mor\u001b[39;00m \u001b[38;5;28mself\u001b[39m\u001b[38;5;241m.\u001b[39m_backward_pre_hooks \u001b[38;5;129;01mor\u001b[39;00m \u001b[38;5;28mself\u001b[39m\u001b[38;5;241m.\u001b[39m_forward_hooks \u001b[38;5;129;01mor\u001b[39;00m \u001b[38;5;28mself\u001b[39m\u001b[38;5;241m.\u001b[39m_forward_pre_hooks\n\u001b[0;32m   1499\u001b[0m         \u001b[38;5;129;01mor\u001b[39;00m _global_backward_pre_hooks \u001b[38;5;129;01mor\u001b[39;00m _global_backward_hooks\n\u001b[0;32m   1500\u001b[0m         \u001b[38;5;129;01mor\u001b[39;00m _global_forward_hooks \u001b[38;5;129;01mor\u001b[39;00m _global_forward_pre_hooks):\n\u001b[1;32m-> 1501\u001b[0m     \u001b[38;5;28;01mreturn\u001b[39;00m \u001b[43mforward_call\u001b[49m\u001b[43m(\u001b[49m\u001b[38;5;241;43m*\u001b[39;49m\u001b[43margs\u001b[49m\u001b[43m,\u001b[49m\u001b[43m \u001b[49m\u001b[38;5;241;43m*\u001b[39;49m\u001b[38;5;241;43m*\u001b[39;49m\u001b[43mkwargs\u001b[49m\u001b[43m)\u001b[49m\n\u001b[0;32m   1502\u001b[0m \u001b[38;5;66;03m# Do not call functions when jit is used\u001b[39;00m\n\u001b[0;32m   1503\u001b[0m full_backward_hooks, non_full_backward_hooks \u001b[38;5;241m=\u001b[39m [], []\n",
      "Cell \u001b[1;32mIn[241], line 42\u001b[0m, in \u001b[0;36mA_CRNN.forward\u001b[1;34m(self, x)\u001b[0m\n\u001b[0;32m     39\u001b[0m x \u001b[38;5;241m=\u001b[39m \u001b[38;5;28mself\u001b[39m\u001b[38;5;241m.\u001b[39mdropout(x)\n\u001b[0;32m     41\u001b[0m x \u001b[38;5;241m=\u001b[39m \u001b[38;5;28mself\u001b[39m\u001b[38;5;241m.\u001b[39mconv3(x)\n\u001b[1;32m---> 42\u001b[0m x \u001b[38;5;241m=\u001b[39m \u001b[38;5;28;43mself\u001b[39;49m\u001b[38;5;241;43m.\u001b[39;49m\u001b[43mbn3\u001b[49m\u001b[43m(\u001b[49m\u001b[43mx\u001b[49m\u001b[43m)\u001b[49m\n\u001b[0;32m     43\u001b[0m x \u001b[38;5;241m=\u001b[39m F\u001b[38;5;241m.\u001b[39mrelu(x)\n\u001b[0;32m     44\u001b[0m x \u001b[38;5;241m=\u001b[39m \u001b[38;5;28mself\u001b[39m\u001b[38;5;241m.\u001b[39mpool2(x)\n",
      "File \u001b[1;32m~\\anaconda3\\envs\\avalon_pytorch\\lib\\site-packages\\torch\\nn\\modules\\module.py:1501\u001b[0m, in \u001b[0;36mModule._call_impl\u001b[1;34m(self, *args, **kwargs)\u001b[0m\n\u001b[0;32m   1496\u001b[0m \u001b[38;5;66;03m# If we don't have any hooks, we want to skip the rest of the logic in\u001b[39;00m\n\u001b[0;32m   1497\u001b[0m \u001b[38;5;66;03m# this function, and just call forward.\u001b[39;00m\n\u001b[0;32m   1498\u001b[0m \u001b[38;5;28;01mif\u001b[39;00m \u001b[38;5;129;01mnot\u001b[39;00m (\u001b[38;5;28mself\u001b[39m\u001b[38;5;241m.\u001b[39m_backward_hooks \u001b[38;5;129;01mor\u001b[39;00m \u001b[38;5;28mself\u001b[39m\u001b[38;5;241m.\u001b[39m_backward_pre_hooks \u001b[38;5;129;01mor\u001b[39;00m \u001b[38;5;28mself\u001b[39m\u001b[38;5;241m.\u001b[39m_forward_hooks \u001b[38;5;129;01mor\u001b[39;00m \u001b[38;5;28mself\u001b[39m\u001b[38;5;241m.\u001b[39m_forward_pre_hooks\n\u001b[0;32m   1499\u001b[0m         \u001b[38;5;129;01mor\u001b[39;00m _global_backward_pre_hooks \u001b[38;5;129;01mor\u001b[39;00m _global_backward_hooks\n\u001b[0;32m   1500\u001b[0m         \u001b[38;5;129;01mor\u001b[39;00m _global_forward_hooks \u001b[38;5;129;01mor\u001b[39;00m _global_forward_pre_hooks):\n\u001b[1;32m-> 1501\u001b[0m     \u001b[38;5;28;01mreturn\u001b[39;00m \u001b[43mforward_call\u001b[49m\u001b[43m(\u001b[49m\u001b[38;5;241;43m*\u001b[39;49m\u001b[43margs\u001b[49m\u001b[43m,\u001b[49m\u001b[43m \u001b[49m\u001b[38;5;241;43m*\u001b[39;49m\u001b[38;5;241;43m*\u001b[39;49m\u001b[43mkwargs\u001b[49m\u001b[43m)\u001b[49m\n\u001b[0;32m   1502\u001b[0m \u001b[38;5;66;03m# Do not call functions when jit is used\u001b[39;00m\n\u001b[0;32m   1503\u001b[0m full_backward_hooks, non_full_backward_hooks \u001b[38;5;241m=\u001b[39m [], []\n",
      "File \u001b[1;32m~\\anaconda3\\envs\\avalon_pytorch\\lib\\site-packages\\torch\\nn\\modules\\batchnorm.py:171\u001b[0m, in \u001b[0;36m_BatchNorm.forward\u001b[1;34m(self, input)\u001b[0m\n\u001b[0;32m    164\u001b[0m     bn_training \u001b[38;5;241m=\u001b[39m (\u001b[38;5;28mself\u001b[39m\u001b[38;5;241m.\u001b[39mrunning_mean \u001b[38;5;129;01mis\u001b[39;00m \u001b[38;5;28;01mNone\u001b[39;00m) \u001b[38;5;129;01mand\u001b[39;00m (\u001b[38;5;28mself\u001b[39m\u001b[38;5;241m.\u001b[39mrunning_var \u001b[38;5;129;01mis\u001b[39;00m \u001b[38;5;28;01mNone\u001b[39;00m)\n\u001b[0;32m    166\u001b[0m \u001b[38;5;250m\u001b[39m\u001b[38;5;124mr\u001b[39m\u001b[38;5;124;03m\"\"\"\u001b[39;00m\n\u001b[0;32m    167\u001b[0m \u001b[38;5;124;03mBuffers are only updated if they are to be tracked and we are in training mode. Thus they only need to be\u001b[39;00m\n\u001b[0;32m    168\u001b[0m \u001b[38;5;124;03mpassed when the update should occur (i.e. in training mode when they are tracked), or when buffer stats are\u001b[39;00m\n\u001b[0;32m    169\u001b[0m \u001b[38;5;124;03mused for normalization (i.e. in eval mode when buffers are not None).\u001b[39;00m\n\u001b[0;32m    170\u001b[0m \u001b[38;5;124;03m\"\"\"\u001b[39;00m\n\u001b[1;32m--> 171\u001b[0m \u001b[38;5;28;01mreturn\u001b[39;00m \u001b[43mF\u001b[49m\u001b[38;5;241;43m.\u001b[39;49m\u001b[43mbatch_norm\u001b[49m\u001b[43m(\u001b[49m\n\u001b[0;32m    172\u001b[0m \u001b[43m    \u001b[49m\u001b[38;5;28;43minput\u001b[39;49m\u001b[43m,\u001b[49m\n\u001b[0;32m    173\u001b[0m \u001b[43m    \u001b[49m\u001b[38;5;66;43;03m# If buffers are not to be tracked, ensure that they won't be updated\u001b[39;49;00m\n\u001b[0;32m    174\u001b[0m \u001b[43m    \u001b[49m\u001b[38;5;28;43mself\u001b[39;49m\u001b[38;5;241;43m.\u001b[39;49m\u001b[43mrunning_mean\u001b[49m\n\u001b[0;32m    175\u001b[0m \u001b[43m    \u001b[49m\u001b[38;5;28;43;01mif\u001b[39;49;00m\u001b[43m \u001b[49m\u001b[38;5;129;43;01mnot\u001b[39;49;00m\u001b[43m \u001b[49m\u001b[38;5;28;43mself\u001b[39;49m\u001b[38;5;241;43m.\u001b[39;49m\u001b[43mtraining\u001b[49m\u001b[43m \u001b[49m\u001b[38;5;129;43;01mor\u001b[39;49;00m\u001b[43m \u001b[49m\u001b[38;5;28;43mself\u001b[39;49m\u001b[38;5;241;43m.\u001b[39;49m\u001b[43mtrack_running_stats\u001b[49m\n\u001b[0;32m    176\u001b[0m \u001b[43m    \u001b[49m\u001b[38;5;28;43;01melse\u001b[39;49;00m\u001b[43m \u001b[49m\u001b[38;5;28;43;01mNone\u001b[39;49;00m\u001b[43m,\u001b[49m\n\u001b[0;32m    177\u001b[0m \u001b[43m    \u001b[49m\u001b[38;5;28;43mself\u001b[39;49m\u001b[38;5;241;43m.\u001b[39;49m\u001b[43mrunning_var\u001b[49m\u001b[43m \u001b[49m\u001b[38;5;28;43;01mif\u001b[39;49;00m\u001b[43m \u001b[49m\u001b[38;5;129;43;01mnot\u001b[39;49;00m\u001b[43m \u001b[49m\u001b[38;5;28;43mself\u001b[39;49m\u001b[38;5;241;43m.\u001b[39;49m\u001b[43mtraining\u001b[49m\u001b[43m \u001b[49m\u001b[38;5;129;43;01mor\u001b[39;49;00m\u001b[43m \u001b[49m\u001b[38;5;28;43mself\u001b[39;49m\u001b[38;5;241;43m.\u001b[39;49m\u001b[43mtrack_running_stats\u001b[49m\u001b[43m \u001b[49m\u001b[38;5;28;43;01melse\u001b[39;49;00m\u001b[43m \u001b[49m\u001b[38;5;28;43;01mNone\u001b[39;49;00m\u001b[43m,\u001b[49m\n\u001b[0;32m    178\u001b[0m \u001b[43m    \u001b[49m\u001b[38;5;28;43mself\u001b[39;49m\u001b[38;5;241;43m.\u001b[39;49m\u001b[43mweight\u001b[49m\u001b[43m,\u001b[49m\n\u001b[0;32m    179\u001b[0m \u001b[43m    \u001b[49m\u001b[38;5;28;43mself\u001b[39;49m\u001b[38;5;241;43m.\u001b[39;49m\u001b[43mbias\u001b[49m\u001b[43m,\u001b[49m\n\u001b[0;32m    180\u001b[0m \u001b[43m    \u001b[49m\u001b[43mbn_training\u001b[49m\u001b[43m,\u001b[49m\n\u001b[0;32m    181\u001b[0m \u001b[43m    \u001b[49m\u001b[43mexponential_average_factor\u001b[49m\u001b[43m,\u001b[49m\n\u001b[0;32m    182\u001b[0m \u001b[43m    \u001b[49m\u001b[38;5;28;43mself\u001b[39;49m\u001b[38;5;241;43m.\u001b[39;49m\u001b[43meps\u001b[49m\u001b[43m,\u001b[49m\n\u001b[0;32m    183\u001b[0m \u001b[43m\u001b[49m\u001b[43m)\u001b[49m\n",
      "File \u001b[1;32m~\\anaconda3\\envs\\avalon_pytorch\\lib\\site-packages\\torch\\nn\\functional.py:2450\u001b[0m, in \u001b[0;36mbatch_norm\u001b[1;34m(input, running_mean, running_var, weight, bias, training, momentum, eps)\u001b[0m\n\u001b[0;32m   2447\u001b[0m \u001b[38;5;28;01mif\u001b[39;00m training:\n\u001b[0;32m   2448\u001b[0m     _verify_batch_size(\u001b[38;5;28minput\u001b[39m\u001b[38;5;241m.\u001b[39msize())\n\u001b[1;32m-> 2450\u001b[0m \u001b[38;5;28;01mreturn\u001b[39;00m \u001b[43mtorch\u001b[49m\u001b[38;5;241;43m.\u001b[39;49m\u001b[43mbatch_norm\u001b[49m\u001b[43m(\u001b[49m\n\u001b[0;32m   2451\u001b[0m \u001b[43m    \u001b[49m\u001b[38;5;28;43minput\u001b[39;49m\u001b[43m,\u001b[49m\u001b[43m \u001b[49m\u001b[43mweight\u001b[49m\u001b[43m,\u001b[49m\u001b[43m \u001b[49m\u001b[43mbias\u001b[49m\u001b[43m,\u001b[49m\u001b[43m \u001b[49m\u001b[43mrunning_mean\u001b[49m\u001b[43m,\u001b[49m\u001b[43m \u001b[49m\u001b[43mrunning_var\u001b[49m\u001b[43m,\u001b[49m\u001b[43m \u001b[49m\u001b[43mtraining\u001b[49m\u001b[43m,\u001b[49m\u001b[43m \u001b[49m\u001b[43mmomentum\u001b[49m\u001b[43m,\u001b[49m\u001b[43m \u001b[49m\u001b[43meps\u001b[49m\u001b[43m,\u001b[49m\u001b[43m \u001b[49m\u001b[43mtorch\u001b[49m\u001b[38;5;241;43m.\u001b[39;49m\u001b[43mbackends\u001b[49m\u001b[38;5;241;43m.\u001b[39;49m\u001b[43mcudnn\u001b[49m\u001b[38;5;241;43m.\u001b[39;49m\u001b[43menabled\u001b[49m\n\u001b[0;32m   2452\u001b[0m \u001b[43m\u001b[49m\u001b[43m)\u001b[49m\n",
      "\u001b[1;31mOutOfMemoryError\u001b[0m: CUDA out of memory. Tried to allocate 16.00 MiB (GPU 0; 8.00 GiB total capacity; 7.15 GiB already allocated; 0 bytes free; 7.30 GiB reserved in total by PyTorch) If reserved memory is >> allocated memory try setting max_split_size_mb to avoid fragmentation.  See documentation for Memory Management and PYTORCH_CUDA_ALLOC_CONF"
     ]
    }
   ],
   "source": [
    "y_pred = model(batch_data)\n",
    "y_pred = y_pred.permute(1, 0, 2)\n",
    "batch_size = 8\n",
    "model = A_CRNN(num_classes, batch_size).to(device)\n",
    "# Calculate CTC loss\n",
    "ctc_loss = F.ctc_loss(model(batch_data), \n",
    "                      batch_labels, torch.tensor([1]), label_length)"
   ]
  },
  {
   "cell_type": "code",
   "execution_count": 222,
   "id": "674136a3-3ccf-4ee0-876f-98a9b6c7f999",
   "metadata": {
    "tags": []
   },
   "outputs": [
    {
     "data": {
      "text/plain": [
       "torch.Size([1, 1, 512, 64])"
      ]
     },
     "execution_count": 222,
     "metadata": {},
     "output_type": "execute_result"
    }
   ],
   "source": [
    "torch.tensor([batch_data[0].tolist()]).shape"
   ]
  },
  {
   "cell_type": "code",
   "execution_count": 231,
   "id": "a823bc8b-ddfe-48cd-83bb-56e4a1c022bd",
   "metadata": {
    "tags": []
   },
   "outputs": [
    {
     "data": {
      "text/plain": [
       "tensor([8, 8, 8, 8, 8, 8, 8, 8])"
      ]
     },
     "execution_count": 231,
     "metadata": {},
     "output_type": "execute_result"
    }
   ],
   "source": [
    "output_length - 256 + 8"
   ]
  },
  {
   "cell_type": "code",
   "execution_count": 245,
   "id": "c522a108-e457-40c5-adf8-474eb4489a73",
   "metadata": {
    "tags": []
   },
   "outputs": [
    {
     "data": {
      "text/plain": [
       "torch.Size([1, 1, 512, 64])"
      ]
     },
     "execution_count": 245,
     "metadata": {},
     "output_type": "execute_result"
    }
   ],
   "source": [
    "torch.tensor([batch_data[0].tolist()]).shape"
   ]
  },
  {
   "cell_type": "code",
   "execution_count": null,
   "id": "62cb43f8-725d-49fb-8688-be36c7c32283",
   "metadata": {},
   "outputs": [],
   "source": []
  }
 ],
 "metadata": {
  "kernelspec": {
   "display_name": "Python 3 (ipykernel)",
   "language": "python",
   "name": "python3"
  },
  "language_info": {
   "codemirror_mode": {
    "name": "ipython",
    "version": 3
   },
   "file_extension": ".py",
   "mimetype": "text/x-python",
   "name": "python",
   "nbconvert_exporter": "python",
   "pygments_lexer": "ipython3",
   "version": "3.8.17"
  }
 },
 "nbformat": 4,
 "nbformat_minor": 5
}
